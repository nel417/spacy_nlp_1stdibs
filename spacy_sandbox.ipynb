{
 "cells": [
  {
   "cell_type": "code",
   "execution_count": 3,
   "id": "ad50f4e4",
   "metadata": {
    "scrolled": false
   },
   "outputs": [
    {
     "name": "stdout",
     "output_type": "stream",
     "text": [
      "Defaulting to user installation because normal site-packages is not writeable\n",
      "Requirement already satisfied: pip in /usr/lib/python3.10/site-packages (21.0)\n",
      "Collecting pip\n",
      "  Using cached pip-22.1.1-py3-none-any.whl (2.1 MB)\n",
      "Requirement already satisfied: setuptools in /home/nick/.local/lib/python3.10/site-packages (62.3.2)\n",
      "Requirement already satisfied: wheel in /usr/lib/python3.10/site-packages (0.37.1)\n",
      "Installing collected packages: pip\n",
      "\u001b[33m  WARNING: The scripts pip, pip3 and pip3.10 are installed in '/home/nick/.local/bin' which is not on PATH.\n",
      "  Consider adding this directory to PATH or, if you prefer to suppress this warning, use --no-warn-script-location.\u001b[0m\u001b[33m\n",
      "\u001b[0mSuccessfully installed pip-22.1.1\n",
      "Defaulting to user installation because normal site-packages is not writeable\n",
      "Requirement already satisfied: spacy in /home/nick/.local/lib/python3.10/site-packages (3.3.0)\n",
      "Requirement already satisfied: wasabi<1.1.0,>=0.9.1 in /home/nick/.local/lib/python3.10/site-packages (from spacy) (0.9.1)\n",
      "Requirement already satisfied: catalogue<2.1.0,>=2.0.6 in /home/nick/.local/lib/python3.10/site-packages (from spacy) (2.0.7)\n",
      "Requirement already satisfied: langcodes<4.0.0,>=3.2.0 in /home/nick/.local/lib/python3.10/site-packages (from spacy) (3.3.0)\n",
      "Requirement already satisfied: pydantic!=1.8,!=1.8.1,<1.9.0,>=1.7.4 in /home/nick/.local/lib/python3.10/site-packages (from spacy) (1.8.2)\n",
      "Requirement already satisfied: jinja2 in /usr/lib/python3.10/site-packages (from spacy) (3.1.2)\n",
      "Requirement already satisfied: setuptools in /home/nick/.local/lib/python3.10/site-packages (from spacy) (62.3.2)\n",
      "Requirement already satisfied: typer<0.5.0,>=0.3.0 in /home/nick/.local/lib/python3.10/site-packages (from spacy) (0.4.1)\n",
      "Requirement already satisfied: numpy>=1.15.0 in /home/nick/.local/lib/python3.10/site-packages (from spacy) (1.22.4)\n",
      "Requirement already satisfied: pathy>=0.3.5 in /home/nick/.local/lib/python3.10/site-packages (from spacy) (0.6.1)\n",
      "Requirement already satisfied: preshed<3.1.0,>=3.0.2 in /home/nick/.local/lib/python3.10/site-packages (from spacy) (3.0.6)\n",
      "Requirement already satisfied: blis<0.8.0,>=0.4.0 in /home/nick/.local/lib/python3.10/site-packages (from spacy) (0.7.7)\n",
      "Requirement already satisfied: thinc<8.1.0,>=8.0.14 in /home/nick/.local/lib/python3.10/site-packages (from spacy) (8.0.16)\n",
      "Requirement already satisfied: srsly<3.0.0,>=2.4.3 in /home/nick/.local/lib/python3.10/site-packages (from spacy) (2.4.3)\n",
      "Requirement already satisfied: cymem<2.1.0,>=2.0.2 in /home/nick/.local/lib/python3.10/site-packages (from spacy) (2.0.6)\n",
      "Requirement already satisfied: murmurhash<1.1.0,>=0.28.0 in /home/nick/.local/lib/python3.10/site-packages (from spacy) (1.0.7)\n",
      "Requirement already satisfied: spacy-loggers<2.0.0,>=1.0.0 in /home/nick/.local/lib/python3.10/site-packages (from spacy) (1.0.2)\n",
      "Requirement already satisfied: spacy-legacy<3.1.0,>=3.0.9 in /home/nick/.local/lib/python3.10/site-packages (from spacy) (3.0.9)\n",
      "Requirement already satisfied: packaging>=20.0 in /usr/lib/python3.10/site-packages (from spacy) (21.3)\n",
      "Requirement already satisfied: requests<3.0.0,>=2.13.0 in /usr/lib/python3.10/site-packages (from spacy) (2.27.1)\n",
      "Requirement already satisfied: tqdm<5.0.0,>=4.38.0 in /home/nick/.local/lib/python3.10/site-packages (from spacy) (4.64.0)\n",
      "Requirement already satisfied: pyparsing!=3.0.5,>=2.0.2 in /usr/lib/python3.10/site-packages (from packaging>=20.0->spacy) (3.0.9)\n",
      "Requirement already satisfied: smart-open<6.0.0,>=5.0.0 in /home/nick/.local/lib/python3.10/site-packages (from pathy>=0.3.5->spacy) (5.2.1)\n",
      "Requirement already satisfied: typing-extensions>=3.7.4.3 in /home/nick/.local/lib/python3.10/site-packages (from pydantic!=1.8,!=1.8.1,<1.9.0,>=1.7.4->spacy) (4.2.0)\n",
      "Requirement already satisfied: chardet>=3.0.2 in /usr/lib/python3.10/site-packages (from requests<3.0.0,>=2.13.0->spacy) (4.0.0)\n",
      "Requirement already satisfied: idna>=2.5 in /usr/lib/python3.10/site-packages (from requests<3.0.0,>=2.13.0->spacy) (3.3)\n",
      "Requirement already satisfied: urllib3>=1.21.1 in /usr/lib/python3.10/site-packages (from requests<3.0.0,>=2.13.0->spacy) (1.26.9)\n",
      "Requirement already satisfied: click<9.0.0,>=7.1.1 in /home/nick/.local/lib/python3.10/site-packages (from typer<0.5.0,>=0.3.0->spacy) (8.1.3)\n",
      "Requirement already satisfied: MarkupSafe>=2.0 in /usr/lib/python3.10/site-packages (from jinja2->spacy) (2.1.1)\n",
      "Defaulting to user installation because normal site-packages is not writeable\n",
      "Requirement already satisfied: spacy[cuda113] in /home/nick/.local/lib/python3.10/site-packages (3.3.0)\n",
      "Requirement already satisfied: catalogue<2.1.0,>=2.0.6 in /home/nick/.local/lib/python3.10/site-packages (from spacy[cuda113]) (2.0.7)\n",
      "Requirement already satisfied: preshed<3.1.0,>=3.0.2 in /home/nick/.local/lib/python3.10/site-packages (from spacy[cuda113]) (3.0.6)\n",
      "Requirement already satisfied: pathy>=0.3.5 in /home/nick/.local/lib/python3.10/site-packages (from spacy[cuda113]) (0.6.1)\n",
      "Requirement already satisfied: spacy-legacy<3.1.0,>=3.0.9 in /home/nick/.local/lib/python3.10/site-packages (from spacy[cuda113]) (3.0.9)\n",
      "Requirement already satisfied: numpy>=1.15.0 in /home/nick/.local/lib/python3.10/site-packages (from spacy[cuda113]) (1.22.4)\n",
      "Requirement already satisfied: setuptools in /home/nick/.local/lib/python3.10/site-packages (from spacy[cuda113]) (62.3.2)\n",
      "Requirement already satisfied: typer<0.5.0,>=0.3.0 in /home/nick/.local/lib/python3.10/site-packages (from spacy[cuda113]) (0.4.1)\n",
      "Requirement already satisfied: thinc<8.1.0,>=8.0.14 in /home/nick/.local/lib/python3.10/site-packages (from spacy[cuda113]) (8.0.16)\n",
      "Requirement already satisfied: pydantic!=1.8,!=1.8.1,<1.9.0,>=1.7.4 in /home/nick/.local/lib/python3.10/site-packages (from spacy[cuda113]) (1.8.2)\n",
      "Requirement already satisfied: cymem<2.1.0,>=2.0.2 in /home/nick/.local/lib/python3.10/site-packages (from spacy[cuda113]) (2.0.6)\n",
      "Requirement already satisfied: jinja2 in /usr/lib/python3.10/site-packages (from spacy[cuda113]) (3.1.2)\n",
      "Requirement already satisfied: tqdm<5.0.0,>=4.38.0 in /home/nick/.local/lib/python3.10/site-packages (from spacy[cuda113]) (4.64.0)\n",
      "Requirement already satisfied: blis<0.8.0,>=0.4.0 in /home/nick/.local/lib/python3.10/site-packages (from spacy[cuda113]) (0.7.7)\n",
      "Requirement already satisfied: requests<3.0.0,>=2.13.0 in /usr/lib/python3.10/site-packages (from spacy[cuda113]) (2.27.1)\n",
      "Requirement already satisfied: wasabi<1.1.0,>=0.9.1 in /home/nick/.local/lib/python3.10/site-packages (from spacy[cuda113]) (0.9.1)\n",
      "Requirement already satisfied: murmurhash<1.1.0,>=0.28.0 in /home/nick/.local/lib/python3.10/site-packages (from spacy[cuda113]) (1.0.7)\n",
      "Requirement already satisfied: packaging>=20.0 in /usr/lib/python3.10/site-packages (from spacy[cuda113]) (21.3)\n",
      "Requirement already satisfied: srsly<3.0.0,>=2.4.3 in /home/nick/.local/lib/python3.10/site-packages (from spacy[cuda113]) (2.4.3)\n",
      "Requirement already satisfied: langcodes<4.0.0,>=3.2.0 in /home/nick/.local/lib/python3.10/site-packages (from spacy[cuda113]) (3.3.0)\n",
      "Requirement already satisfied: spacy-loggers<2.0.0,>=1.0.0 in /home/nick/.local/lib/python3.10/site-packages (from spacy[cuda113]) (1.0.2)\n",
      "Collecting cupy-cuda113<11.0.0,>=5.0.0b4\n",
      "  Downloading cupy_cuda113-10.5.0-cp310-cp310-manylinux1_x86_64.whl (76.0 MB)\n",
      "\u001b[2K     \u001b[38;2;114;156;31m━━━━━━━━━━━━━━━━━━━━━━━━━━━━━━━━━━━━━━━━\u001b[0m \u001b[32m76.0/76.0 MB\u001b[0m \u001b[31m13.9 MB/s\u001b[0m eta \u001b[36m0:00:00\u001b[0mm eta \u001b[36m0:00:01\u001b[0m[36m0:00:01\u001b[0m\n",
      "\u001b[?25hCollecting fastrlock>=0.5\n",
      "  Downloading fastrlock-0.8-cp310-cp310-manylinux_2_5_x86_64.manylinux1_x86_64.manylinux_2_12_x86_64.manylinux2010_x86_64.whl (47 kB)\n",
      "\u001b[2K     \u001b[38;2;114;156;31m━━━━━━━━━━━━━━━━━━━━━━━━━━━━━━━━━━━━━━━━\u001b[0m \u001b[32m48.0/48.0 kB\u001b[0m \u001b[31m14.2 MB/s\u001b[0m eta \u001b[36m0:00:00\u001b[0m\n",
      "\u001b[?25hRequirement already satisfied: pyparsing!=3.0.5,>=2.0.2 in /usr/lib/python3.10/site-packages (from packaging>=20.0->spacy[cuda113]) (3.0.9)\n",
      "Requirement already satisfied: smart-open<6.0.0,>=5.0.0 in /home/nick/.local/lib/python3.10/site-packages (from pathy>=0.3.5->spacy[cuda113]) (5.2.1)\n",
      "Requirement already satisfied: typing-extensions>=3.7.4.3 in /home/nick/.local/lib/python3.10/site-packages (from pydantic!=1.8,!=1.8.1,<1.9.0,>=1.7.4->spacy[cuda113]) (4.2.0)\n",
      "Requirement already satisfied: chardet>=3.0.2 in /usr/lib/python3.10/site-packages (from requests<3.0.0,>=2.13.0->spacy[cuda113]) (4.0.0)\n",
      "Requirement already satisfied: idna>=2.5 in /usr/lib/python3.10/site-packages (from requests<3.0.0,>=2.13.0->spacy[cuda113]) (3.3)\n"
     ]
    },
    {
     "name": "stdout",
     "output_type": "stream",
     "text": [
      "Requirement already satisfied: urllib3>=1.21.1 in /usr/lib/python3.10/site-packages (from requests<3.0.0,>=2.13.0->spacy[cuda113]) (1.26.9)\n",
      "Requirement already satisfied: click<9.0.0,>=7.1.1 in /home/nick/.local/lib/python3.10/site-packages (from typer<0.5.0,>=0.3.0->spacy[cuda113]) (8.1.3)\n",
      "Requirement already satisfied: MarkupSafe>=2.0 in /usr/lib/python3.10/site-packages (from jinja2->spacy[cuda113]) (2.1.1)\n",
      "Installing collected packages: fastrlock, cupy-cuda113\n",
      "Successfully installed cupy-cuda113-10.5.0 fastrlock-0.8\n",
      "Defaulting to user installation because normal site-packages is not writeable\n",
      "Collecting en-core-web-sm==3.3.0\n",
      "  Downloading https://github.com/explosion/spacy-models/releases/download/en_core_web_sm-3.3.0/en_core_web_sm-3.3.0-py3-none-any.whl (12.8 MB)\n",
      "\u001b[2K     \u001b[38;2;114;156;31m━━━━━━━━━━━━━━━━━━━━━━━━━━━━━━━━━━━━━━━━\u001b[0m \u001b[32m12.8/12.8 MB\u001b[0m \u001b[31m10.8 MB/s\u001b[0m eta \u001b[36m0:00:00\u001b[0mm eta \u001b[36m0:00:01\u001b[0m:01\u001b[0m:01\u001b[0m\n",
      "\u001b[?25hRequirement already satisfied: spacy<3.4.0,>=3.3.0.dev0 in /home/nick/.local/lib/python3.10/site-packages (from en-core-web-sm==3.3.0) (3.3.0)\n",
      "Requirement already satisfied: catalogue<2.1.0,>=2.0.6 in /home/nick/.local/lib/python3.10/site-packages (from spacy<3.4.0,>=3.3.0.dev0->en-core-web-sm==3.3.0) (2.0.7)\n",
      "Requirement already satisfied: wasabi<1.1.0,>=0.9.1 in /home/nick/.local/lib/python3.10/site-packages (from spacy<3.4.0,>=3.3.0.dev0->en-core-web-sm==3.3.0) (0.9.1)\n",
      "Requirement already satisfied: srsly<3.0.0,>=2.4.3 in /home/nick/.local/lib/python3.10/site-packages (from spacy<3.4.0,>=3.3.0.dev0->en-core-web-sm==3.3.0) (2.4.3)\n",
      "Requirement already satisfied: requests<3.0.0,>=2.13.0 in /usr/lib/python3.10/site-packages (from spacy<3.4.0,>=3.3.0.dev0->en-core-web-sm==3.3.0) (2.27.1)\n",
      "Requirement already satisfied: tqdm<5.0.0,>=4.38.0 in /home/nick/.local/lib/python3.10/site-packages (from spacy<3.4.0,>=3.3.0.dev0->en-core-web-sm==3.3.0) (4.64.0)\n",
      "Requirement already satisfied: packaging>=20.0 in /usr/lib/python3.10/site-packages (from spacy<3.4.0,>=3.3.0.dev0->en-core-web-sm==3.3.0) (21.3)\n",
      "Requirement already satisfied: preshed<3.1.0,>=3.0.2 in /home/nick/.local/lib/python3.10/site-packages (from spacy<3.4.0,>=3.3.0.dev0->en-core-web-sm==3.3.0) (3.0.6)\n",
      "Requirement already satisfied: blis<0.8.0,>=0.4.0 in /home/nick/.local/lib/python3.10/site-packages (from spacy<3.4.0,>=3.3.0.dev0->en-core-web-sm==3.3.0) (0.7.7)\n",
      "Requirement already satisfied: murmurhash<1.1.0,>=0.28.0 in /home/nick/.local/lib/python3.10/site-packages (from spacy<3.4.0,>=3.3.0.dev0->en-core-web-sm==3.3.0) (1.0.7)\n",
      "Requirement already satisfied: thinc<8.1.0,>=8.0.14 in /home/nick/.local/lib/python3.10/site-packages (from spacy<3.4.0,>=3.3.0.dev0->en-core-web-sm==3.3.0) (8.0.16)\n",
      "Requirement already satisfied: pydantic!=1.8,!=1.8.1,<1.9.0,>=1.7.4 in /home/nick/.local/lib/python3.10/site-packages (from spacy<3.4.0,>=3.3.0.dev0->en-core-web-sm==3.3.0) (1.8.2)\n",
      "Requirement already satisfied: cymem<2.1.0,>=2.0.2 in /home/nick/.local/lib/python3.10/site-packages (from spacy<3.4.0,>=3.3.0.dev0->en-core-web-sm==3.3.0) (2.0.6)\n",
      "Requirement already satisfied: typer<0.5.0,>=0.3.0 in /home/nick/.local/lib/python3.10/site-packages (from spacy<3.4.0,>=3.3.0.dev0->en-core-web-sm==3.3.0) (0.4.1)\n",
      "Requirement already satisfied: spacy-legacy<3.1.0,>=3.0.9 in /home/nick/.local/lib/python3.10/site-packages (from spacy<3.4.0,>=3.3.0.dev0->en-core-web-sm==3.3.0) (3.0.9)\n",
      "Requirement already satisfied: spacy-loggers<2.0.0,>=1.0.0 in /home/nick/.local/lib/python3.10/site-packages (from spacy<3.4.0,>=3.3.0.dev0->en-core-web-sm==3.3.0) (1.0.2)\n",
      "Requirement already satisfied: pathy>=0.3.5 in /home/nick/.local/lib/python3.10/site-packages (from spacy<3.4.0,>=3.3.0.dev0->en-core-web-sm==3.3.0) (0.6.1)\n",
      "Requirement already satisfied: langcodes<4.0.0,>=3.2.0 in /home/nick/.local/lib/python3.10/site-packages (from spacy<3.4.0,>=3.3.0.dev0->en-core-web-sm==3.3.0) (3.3.0)\n",
      "Requirement already satisfied: setuptools in /home/nick/.local/lib/python3.10/site-packages (from spacy<3.4.0,>=3.3.0.dev0->en-core-web-sm==3.3.0) (62.3.2)\n",
      "Requirement already satisfied: jinja2 in /usr/lib/python3.10/site-packages (from spacy<3.4.0,>=3.3.0.dev0->en-core-web-sm==3.3.0) (3.1.2)\n",
      "Requirement already satisfied: numpy>=1.15.0 in /home/nick/.local/lib/python3.10/site-packages (from spacy<3.4.0,>=3.3.0.dev0->en-core-web-sm==3.3.0) (1.22.4)\n",
      "Requirement already satisfied: pyparsing!=3.0.5,>=2.0.2 in /usr/lib/python3.10/site-packages (from packaging>=20.0->spacy<3.4.0,>=3.3.0.dev0->en-core-web-sm==3.3.0) (3.0.9)\n",
      "Requirement already satisfied: smart-open<6.0.0,>=5.0.0 in /home/nick/.local/lib/python3.10/site-packages (from pathy>=0.3.5->spacy<3.4.0,>=3.3.0.dev0->en-core-web-sm==3.3.0) (5.2.1)\n",
      "Requirement already satisfied: typing-extensions>=3.7.4.3 in /home/nick/.local/lib/python3.10/site-packages (from pydantic!=1.8,!=1.8.1,<1.9.0,>=1.7.4->spacy<3.4.0,>=3.3.0.dev0->en-core-web-sm==3.3.0) (4.2.0)\n",
      "Requirement already satisfied: chardet>=3.0.2 in /usr/lib/python3.10/site-packages (from requests<3.0.0,>=2.13.0->spacy<3.4.0,>=3.3.0.dev0->en-core-web-sm==3.3.0) (4.0.0)\n",
      "Requirement already satisfied: idna>=2.5 in /usr/lib/python3.10/site-packages (from requests<3.0.0,>=2.13.0->spacy<3.4.0,>=3.3.0.dev0->en-core-web-sm==3.3.0) (3.3)\n",
      "Requirement already satisfied: urllib3>=1.21.1 in /usr/lib/python3.10/site-packages (from requests<3.0.0,>=2.13.0->spacy<3.4.0,>=3.3.0.dev0->en-core-web-sm==3.3.0) (1.26.9)\n",
      "Requirement already satisfied: click<9.0.0,>=7.1.1 in /home/nick/.local/lib/python3.10/site-packages (from typer<0.5.0,>=0.3.0->spacy<3.4.0,>=3.3.0.dev0->en-core-web-sm==3.3.0) (8.1.3)\n",
      "Requirement already satisfied: MarkupSafe>=2.0 in /usr/lib/python3.10/site-packages (from jinja2->spacy<3.4.0,>=3.3.0.dev0->en-core-web-sm==3.3.0) (2.1.1)\n",
      "\u001b[38;5;2m✔ Download and installation successful\u001b[0m\n",
      "You can now load the package via spacy.load('en_core_web_sm')\n"
     ]
    }
   ],
   "source": [
    "!pip install -U pip setuptools wheel\n",
    "!pip install -U spacy\n",
    "!pip install -U 'spacy[cuda113]'\n",
    "!python -m spacy download en_core_web_sm"
   ]
  },
  {
   "cell_type": "code",
   "execution_count": 45,
   "id": "598b7ac4",
   "metadata": {},
   "outputs": [],
   "source": [
    "import requests\n",
    "from bs4 import BeautifulSoup"
   ]
  },
  {
   "cell_type": "code",
   "execution_count": 4,
   "id": "0b9ca5dc",
   "metadata": {},
   "outputs": [],
   "source": [
    "import spacy"
   ]
  },
  {
   "cell_type": "code",
   "execution_count": 46,
   "id": "8f88ab5d",
   "metadata": {},
   "outputs": [],
   "source": [
    "request_link = requests.get('https://www.1stdibs.com/creators/le-corbusier/furniture/')\n",
    "request_link2 = request_link.text"
   ]
  },
  {
   "cell_type": "code",
   "execution_count": 47,
   "id": "f42d0657",
   "metadata": {},
   "outputs": [],
   "source": [
    "soup = BeautifulSoup(request_link2, 'html.parser')\n"
   ]
  },
  {
   "cell_type": "code",
   "execution_count": 49,
   "id": "11523166",
   "metadata": {},
   "outputs": [],
   "source": [
    "soup_text = soup.get_text()"
   ]
  },
  {
   "cell_type": "code",
   "execution_count": 50,
   "id": "6af85429",
   "metadata": {},
   "outputs": [
    {
     "name": "stdout",
     "output_type": "stream",
     "text": [
      "\n",
      "\n",
      "\n",
      "\n",
      "\n",
      "\n",
      "\n",
      "\n",
      "\n",
      "\n",
      "\n",
      "\n",
      "\n",
      "\n",
      "\n",
      "\n",
      "\n",
      "\n",
      "\n",
      "Le Corbusier Furniture: Chairs, Sofas, Tables & More - 124 For Sale at 1stdibs | \"modern chair\" sofa, 1959 le corbusier armchair, 1990 corbusier\n",
      "\n",
      "\n",
      "\n",
      "\n",
      "\n",
      "\n",
      "\n",
      "\n",
      "\n",
      "\n",
      "\n",
      "\n",
      "\n",
      "\n",
      "\n",
      "\n",
      "\n",
      "\n",
      "\n",
      "\n",
      "\n",
      "\n",
      "\n",
      "\n",
      "Skip to main contentFurnitureSeatingSofasChairsArmchairsDining Room ChairsAll SeatingStorageCabinetsDressersNight StandsWardrobesBookcasesCredenzasAll StorageTablesDining TablesCoffee TablesSide TablesDesksAll TablesShop by StyleMid Century Modern Art Deco Louis XVIAll StylesShop Iconic DesignsEames Lounge ChairWishbone ChairEgg Chair Womb ChairAll Iconic DesignsShop by CreatorMilo BaughmanGio PontiLe Corbusier Ettore SottsassAll Creators More Ways to ShopNew ArrivalsFeatured Collection: 2022 Designer Survey Trend: Plaster, Clay, and TerracottaFeatured New & Custom DesignsAll FurnitureLightingShop by CategoryWall Lights & SconcesTable LampsFloor LampsChandeliers & PendantsShop by StyleMid-Century Modern LightingArt Deco LightingIndustrial LightingAll StylesShop by CreatorLouis PoulsenNoguchiBaccaratStilnovoAll CreatorsShop Iconic DesignsArtichoke LampArco LampSputnik ChandelierAll Iconic DesignsMore Ways to ShopNew ArrivalsFeatured New & Custom DesignsAll LightingDecorTablewareFlatwareDinnerwareBarwareAll TablewareDecorative ObjectsSculpturesVases & VesselsBowls & BasketsBoxesCollectibles & CuriositiesAll Decorative ObjectsHome AccentsMirrorsRugs & CarpetsWall DecorClocksPillows and ThrowsAll Home AccentsMore Ways to ShopNew ArrivalsFeatured New & Custom DesignsGifts for the HomeAll DecorArtShop by CategorySculpturesPaintingsDrawings & Watercolor PaintingsPrintsPhotographyShop by StyleContemporary ArtPop ArtImpressionist ArtOld Master ArtAll StylesShop by ArtistAndy WarholKeith HaringSalvador DaliPablo PicassoAll ArtistsMore Ways to ShopNew ArrivalsAll ArtCurated by Anna Condo, New York-based filmmaker, photographer and artist, FLOWER GANG, is  a collection of 100 floral NFTs created by well known crypto artists who both center practices around florals and those who are well regarded in the space for other art.FLOWER GANGNFTsBrowse by MediumStatic ImagesAnimated GIFsVideos3DShop AllBrowse by CreatorAnna CondoSynchrodogsSaeko EharaSam YoukilisAdama Delphine FawunduIgnasi MonrealCoverArtGuyGisel FlorezAngie Taylor All CreatorsExhibitionsFLOWER GANGBL00MIDentity: (Self)-Made by WomenThe ConversationA Strange World View All Exhibitions EditorialThe MintJewelry & WatchesShop By CategoryEngagement RingsRingsWatchesEarringsCufflinksBraceletsNecklacesBroochesShop by CreatorRolexCartierPatek PhilippeTiffany & Co.Audemars PiguetAll CreatorsShop Iconic DesignsCartier Love BraceletCartier Love RingPatek Philippe NautilusCartier Panthère WatchAll Iconic DesignsMore Ways to ShopNew ArrivalsFeatured: Design Your Own Featured Contemporary JewelrySolitaire RingsGold JewelryFashion JewelryMen's JewelryWomen's JewelryDiamond JewelryAll JewelryFashionShop by CategoryClothingHandbagsShoesAccessoriesShop By DesignerHermèsChanelPradaAlexander McQueenGucciYves Saint LaurentLouis VuittonAll DesignersShop Iconic DesignsHermès Birkin BagHermès Kelly BagAll Iconic DesignsMore Ways to ShopNew ArrivalsWedding DressesAll FashionWorld of 1stDibsMagazineIntrospective MagazineOur StoryAbout 1stDibsThe 1stDibs PromiseOur Vetting ProcessThe 1stDibs Luxury E-Commerce ReportPressSellersSeller DirectoryRecognized DealersAntiques Associations MembersArt Dealers Association of AmericaAssociation of International Photography DealersInternational Fine Print Dealers AssociationSociety of London Art DealersAssociation of Women Art DealersInterior DesignersThe 1stDibs 50Design Firm DirectoryNew York Design FirmsLondon Design FirmsParis Design FirmsDesigner Connection ServiceInspiration from Our DesignersEntrywayLiving RoomDining RoomKitchenBedroomOfficeView All RoomsSaleAuctions\n",
      "\n",
      "\n",
      "HomeCreatorsLe CorbusierFurnitureLe Corbusier FurnitureFollowFrench, Swiss, 1887-1965Swiss-born Charles-Édouard Jeanneret, best known by his adopted name Le Corbusier, was a highly influential architect, designer, painter, urban planner and writer whose career spanned almost five decades. A pioneer of progress-minded modern architecture, Le Corbusier sought to impose a rational order on the chaos of the world through design. He rejected the excessive architectural ornament and developed a style that became known as brutalism, creating buildings with elemental geometric forms that were made of industrial materials such as steel and reinforced concrete. Le Corbusier believed that pure, well-designed spaces could offer a lesson in how little is needed to achieve happiness. To convey this notion, the architect prioritized modern, open interiors and emphasized light, rational designs. His architecture and interiors share a clear sense of space and structural order, underlining the beauty in harmony, proportion and simplicity.Le Corbusier’s furniture espouses these same ideals. His designs are spare, minimal and efficient but at the same time offer supreme comfort. Collaborating with his cousin, Pierre Jeanneret, and trailblazing designer Charlotte Perriand, he devised such iconic pieces as the LC2 Petit Confort armchair and the LC4 chaise longue. Each couples a tubular chrome frame with soft, supple leather upholstery, lending an organic warmth to an industrially made design. In his furniture, Le Corbusier broke new ground in ergonomics. The shape of the LC4 chaise is taken directly from the human form; the classic cowhide upholstery makes the sitter feel weightless; and the piece features an adjustable positioning mechanism to promote total relaxation.Such planning and intelligence were the hallmarks of Le Corbusier’s career. Whether in his designs for private residences such as the Villa Savoye near Paris, apartment towers like the Unité D'habitation in Marseilles, or in his furniture, he worked toward a style of living that was expansive and flexible. The strength and simplicity of line of Le Corbusier’s sofas and other seating pieces give them a sculptural presence in any décor, yet they are sublimely restful. And as you will see on 1stDibs, Le Corbusier’s furniture reflects a worldly taste: it is at once refined, cosmopolitan and chic.Iconic Designs from Le CorbusierExplore timeless pieces that have earned their place in history.LC4 Chaise LongueLC2 Petit Confort ChairLC3 Grand Confort ChairLC1 ChairCategoryBack To All CategoriesFurniture124Seating65Lighting25Tables14Serveware, Ceramics, Silver and Glass10Decorative Objects6Building and Garden Elements3More Furniture and Collectibles3Wall Decorations3Case Pieces and Storage Cabinets2Rugs and Carpets1See MoreItem typeAllAntique and Vintage75New and Made To Order4021st Century Pre-Owned9PriceAny priceUnder $2,000Under $5,000Under $10,000$10,000 and uptoOn sale27Shipping OptionsItem LocationAnywhereEurope62USA61Search LocationsStyleMid-Century Modern72Modern8Period18th Century and Earlier220th Century7321st Century and Contemporary49Early 20th Century5Mid-20th Century35Late 20th Century291920s31930s21940s11950s161960s71970s141980s91990s4See MoreColorMaterialMetal76Animal Skin44Leather36Chrome27Steel25Search MaterialsAvailabilityAll124In Stock Now86In Stock Within 6 weeks87Place of OriginEurope106Italy68France31Asia15India15Search PlacesCreatorLe Corbusier69Tiffany & Co.5,108Georg Jensen2,197Royal Copenhagen1,856Mehraban Rugs1,842Search CreatorsClearDisplayDimensionsExclude SoldCustomizable Items OnlyReturnable Items OnlyRecognized Seller ListingsTop Seller ListingsRecommendedNewestPrice: High - LowPrice: Low - HighPopular60 per page120 per pageCreator: Le CorbusierClear AllLe Corbusier LC16 Writing Wood Desk and Shelve by CassinaBy Cassina, Le CorbusierLocated in Barcelona, BarcelonaWriting desk designed by Le Corbusier in 1957. Relaunched in 2010.\r\n",
      "Manufactured by Cassina in Italy.\r\n",
      "\r\n",
      "Defying the laws of physics, going beyond what we normally understand by the ...Category2010s Italian Mid-Century Modern  Le Corbusier FurnitureMaterialsWoodView Full DetailsLe Corbusier LC16 Writing Wood Desk and Shelve by CassinaLe Corbusier 'Borne Béton Petite' Table Lamp for NemoBy Le Corbusier, Nemo Lighting 1Located in Glendale, CALe Corbusier 'Borne Béton Petite' table lamp for Nemo.\r\n",
      "\r\n",
      "This iconic table lamp is an authorized re-edition of Le Corbusier's 'Borne Béton' concrete lamp in a table version, origina...Category21st Century and Contemporary Italian Mid-Century Modern  Le Corbusier FurnitureMaterialsConcreteView Full DetailsLe Corbusier 'Borne Béton Petite' Table Lamp for NemoLe Corbusier LC14 Cabanon Wood Stool by CassinaBy Cassina, Le CorbusierLocated in Barcelona, BarcelonaStool designed by Le Corbusier in 1952-59. Relaunched in 2010.\n",
      "Manufactured by Cassina in Italy.\n",
      "\n",
      "Designed in 1952 for the Cabanon, a hut built by Le Corbusier on the French Riviera,...Category2010s Italian Mid-Century Modern  Le Corbusier FurnitureMaterialsWoodView Full DetailsLe Corbusier LC14 Cabanon Wood Stool by CassinaLC3 Lounge Chairs, Le Corbusier by Cassina, 1970sBy Le Corbusier, CassinaLocated in Renens, CHProbably the most well-known designs by the Swiss-born architect Le Corbusier (Charles-Edouard Jeanneret) are the LC2 and LC3 armchairs. Le Corbusier hardly needs an introduction, hi...Category1970s Italian Mid-Century Modern Vintage Le Corbusier FurnitureMaterialsMetalView Full DetailsLC3 Lounge Chairs, Le Corbusier by Cassina, 1970sLe Corbusier for Cassina LC4 Mid Century Black Leather ChaiseBy Le Corbusier, CassinaLocated in Countryside, ILLe Corbusier for Cassina LC4 mid century black leather chaise\r\n",
      "\r\n",
      "This chaise measures: 89 wide x 24 deep x 27 inches high\r\n",
      "\r\n",
      "All pieces of furniture can be had in what we call restor...Category1970s English Mid-Century Modern Vintage Le Corbusier FurnitureMaterialsMetal, ChromeView Full DetailsLe Corbusier for Cassina LC4 Mid Century Black Leather ChaiseCoffee Table 'LC10' by Le Corbusier for Cassina, 1924By Le Corbusier, CassinaLocated in Echt, NLBeautiful LC10 coffee table in very good condition.\n",
      "\n",
      "Designed by Le Corbusier in 1924\n",
      "\n",
      "Manufactured by Cassina \n",
      "\n",
      "The table has a thick glass top which rests on a mat black frame with...CategoryMid-20th Century Italian Mid-Century Modern  Le Corbusier FurnitureMaterialsMetal, ChromeView Full DetailsCoffee Table 'LC10' by Le Corbusier for Cassina, 1924Borne Bétone Petite Cast Concrete Table Lamp by Le Corbusier With LED Bulb By Le CorbusierLocated in Chicago, ILBorne Bétone Petite table lamp by Le Corbusier. \r\n",
      "Current production manufactured in France by Nemo Lighting. Concrete outdoor and indoor floor and table lamp, conceived for the Unit...Category2010s French Mid-Century Modern  Le Corbusier FurnitureMaterialsConcreteView Full DetailsBorne Bétone Petite Cast Concrete Table Lamp by Le Corbusier With LED Bulb Le Corbusier LC14 Maison Du Brésil Wood Stool by CassinaBy Cassina, Le CorbusierLocated in Barcelona, BarcelonaStool designed by Le Corbusier in 1952-59. Relaunched in 2010.\n",
      "Manufactured by Cassina in Italy.\n",
      "\n",
      "Designed by Le Corbusier in 1959 for the Maison du Brésil at the Cité International ...Category2010s Italian Mid-Century Modern  Le Corbusier FurnitureMaterialsWoodView Full DetailsLe Corbusier LC14 Maison Du Brésil Wood Stool by CassinaCharlotte Perriand, Le Corbusier LC7 Siège Tournant, Fauteuil, Set of 4 ChairsBy Cassina, Le Corbusier, Pierre Jeanneret, Charlotte Perriand Cassina, Charlotte Perriand, Le CorbusierLocated in Brooklyn, NYCharlotte Perriand, Le Corbusier LC7 Siège Tournant, Fauteuil, Set of 4 Chairs. Cassina. Made in Italy. \r\n",
      "Designed by Charlotte Perriand in 1927 for her Paris apartment in Place Sain...CategoryMid-20th Century Italian Mid-Century Modern  Le Corbusier FurnitureMaterialsStainless SteelView Full DetailsCharlotte Perriand, Le Corbusier LC7 Siège Tournant, Fauteuil, Set of 4 Chairs'LC2' Three-Seat Sofa by Le Corbusier, Jeanneret & Perriand for Cassina, SignedBy Cassina, Le Corbusier, Charlotte Perriand, Pierre JeanneretLocated in Los Angeles, CAThis incredibly comfortable Le Corbusier for Cassina (authentic signed) LC2 three-seat sofa with charcoal grey fabric cushions and tubular chrome frame. \r\n",
      "\r\n",
      "The LC2 was designed in 1...Category2010s Italian Bauhaus  Le Corbusier FurnitureMaterialsChromeView Full Details'LC2' Three-Seat Sofa by Le Corbusier, Jeanneret & Perriand for Cassina, SignedEarly Production 'LC3' Lounge Chairs by Le Corbusier for Cassina, c 1970, SignedBy Cassina, Le Corbusier, Charlotte Perriand, Pierre JeanneretLocated in Los Angeles, CAIf you want the most comfortable and sizable club chair to sink your heinie into, this authentic (signed) set of Le Corbusier for Cassina LC3's are the chairs for you (and of course,...Category1970s Italian Bauhaus Vintage Le Corbusier FurnitureMaterialsChromeView Full DetailsEarly Production 'LC3' Lounge Chairs by Le Corbusier for Cassina, c 1970, SignedDesigned by Le Corbusier for Lumax Molded Glass Desk Accessory Ashtray CatchallBy Lumax, Le CorbusierLocated in Atlanta, GAIndustrial thick molded glass desktop accessory (desk tidy, ashtray or catchall) manufactured by Lumax, France. Original design by Le Corbusier.\n",
      "Measurements: 4.50 in. wide (11.5 cm)...Category1950s French Mid-Century Modern Vintage Le Corbusier FurnitureMaterialsGlassView Full DetailsDesigned by Le Corbusier for Lumax Molded Glass Desk Accessory Ashtray CatchallLe Corbusier, Charlotte Perriand Ashtray for LumaxBy Charlotte Perriand, Le CorbusierLocated in Barcelona, BarcelonaLe Corbusier and Charlotte Perriand Ashtray\r\n",
      "\r\n",
      "In original condition with minor wear consistent of age and use, preserving a beautiful patina.\r\n",
      "\r\n",
      "Material:\r\n",
      "Glass\r\n",
      "\r\n",
      "Dimensions:\r\n",
      "D 1...Category1970s French Mid-Century Modern Vintage Le Corbusier FurnitureMaterialsGlassView Full DetailsLe Corbusier, Charlotte Perriand Ashtray for LumaxMonumental Le Corbusier 'Escargot' Sculptural Cast Brass Floor Lamp for NemoBy Le Corbusier, Nemo Lighting 1Located in Glendale, CAMonumental Le Corbusier 'Escargot' sculptural cast brass floor lamp for Nemo.\n",
      "\n",
      "This nature-inspired sculptural floor lamp was originally designed by Le Corbusier for the public space...Category21st Century and Contemporary Italian Mid-Century Modern  Le Corbusier FurnitureMaterialsAluminum, BrassView Full DetailsMonumental Le Corbusier 'Escargot' Sculptural Cast Brass Floor Lamp for NemoLe Corbusier LC17 Portemanteau Coat Rack by CassinaBy Cassina, Le CorbusierLocated in Barcelona, BarcelonaCoat rack designed by Le Corbusier in 1957. Relaunched in 2010.\n",
      "Manufactured by Cassina in Italy.\n",
      "\n",
      "This coat rack was originally created by Le Corbusier for the Cabanon, a summer-hou...Category2010s Italian Mid-Century Modern  Le Corbusier FurnitureMaterialsWoodView Full DetailsLe Corbusier LC17 Portemanteau Coat Rack by CassinaDesigned by Le Corbusier for Lumax 1950s Nevada Molded Glass Desk Tidy AshtrayBy Lumax, Le CorbusierLocated in Atlanta, GA1950s Industrial thick molded glass desktop accessory, desk tidy, or cigar ashtray manufactured by Lumax, France. Original design by Le Corbusier, this model named \"Nevada\" was used ...Category1950s French Mid-Century Modern Vintage Le Corbusier FurnitureMaterialsGlassView Full DetailsDesigned by Le Corbusier for Lumax 1950s Nevada Molded Glass Desk Tidy AshtrayPair of 'LC3' Lounge Chairs by Le Corbusier for Cassina, SignedBy Cassina, Pierre Jeanneret, Charlotte Perriand, Le CorbusierLocated in Los Angeles, CAIf you want the most comfortable and sizable club chair to sink your heinie into, this pair of Le Corbusier for Cassina (signed) LC3's are the chairs for you (and of course, your hei...CategoryEarly 2000s Italian Bauhaus  Le Corbusier FurnitureMaterialsChromeView Full DetailsPair of 'LC3' Lounge Chairs by Le Corbusier for Cassina, SignedLe Corbusier Set of 2 White Leather Armchairs Model, LC1 for Cassina, 1970sBy Cassina, Charlotte Perriand, Pierre Jeanneret, Le CorbusierLocated in The Hague, NLSet of 2 armchairs designed by Le Corbusier and manufactured for Cassina, famous Italian furniture manufacture in 1970s period.\r\n",
      "Both chairs are original signed, low number early edi...Category1970s Italian Mid-Century Modern Vintage Le Corbusier FurnitureMaterialsChromeView Full DetailsLe Corbusier Set of 2 White Leather Armchairs Model, LC1 for Cassina, 1970sLe Corbusier 'Parliament' Floor Lamp for Nemo in Black & RedBy Le Corbusier, Nemo Lighting 1Located in Glendale, CALe Corbusier 'Parliament' floor lamp for Nemo in black and red. \r\n",
      "\r\n",
      "Le Corbusier designed the Parliament lamp for the Chandigarh Parliament in India. This iconic floor lamp features ...Category21st Century and Contemporary Italian Mid-Century Modern  Le Corbusier FurnitureMaterialsAluminum, SteelView Full DetailsLe Corbusier 'Parliament' Floor Lamp for Nemo in Black & RedLe Corbusier 'Lampe de Marseille' Wall Lamp for Nemo in WhiteBy Le Corbusier, Nemo Lighting 1Located in Glendale, CALe Corbusier Lampe de Marseille wall lamp for Nemo in Matte White.\r\n",
      "\r\n",
      "Designed by Le Corbusier for the Unité d’Habitation of Marseille in 1949/1952, this wall lamp is both architectu...Category21st Century and Contemporary Italian Mid-Century Modern  Le Corbusier FurnitureMaterialsAluminum, SteelView Full DetailsLe Corbusier 'Lampe de Marseille' Wall Lamp for Nemo in WhiteLe Corbusier LC14 Cabanon Wood Stool by CassinaBy Cassina, Le CorbusierLocated in Barcelona, BarcelonaStool designed by Le Corbusier in 1952-59. Relaunched in 2010.\r\n",
      "Manufactured by Cassina in Italy.\r\n",
      "\r\n",
      "Designed in 1952 for the Cabanon, a hut built by Le Corbusier on the French Rivie...Category2010s Italian Mid-Century Modern  Le Corbusier FurnitureMaterialsWoodView Full DetailsLe Corbusier LC14 Cabanon Wood Stool by CassinaLe Corbusier, Charlotte Perriand Ashtray for LumaxBy Le Corbusier, Charlotte PerriandLocated in Barcelona, BarcelonaLe Corbusier and Charlotte Perriand ashtray\r\n",
      "\r\n",
      "\r\n",
      "In original condition with minor wear consistent of age and use, preserving a beautiful patina.\r\n",
      "\r\n",
      "Material:\r\n",
      "Glass\r\n",
      "\r\n",
      "Dimensions:\r\n",
      "D...Category1970s French Mid-Century Modern Vintage Le Corbusier FurnitureMaterialsGlassView Full DetailsLe Corbusier, Charlotte Perriand Ashtray for LumaxSmall Le Corbusier 'Lampe de Marseille Mini' Wall Lamp for Nemo in BlackBy Nemo Lighting 1, Le CorbusierLocated in Glendale, CASmall Le Corbusier 'Lampe de Marseille Mini' wall lamp for Nemo in black.\r\n",
      "\r\n",
      "Designed by Le Corbusier for the Unité d’Habitation of Marseille in 1949/1952, this wall lamp is both arc...Category21st Century and Contemporary Italian Mid-Century Modern  Le Corbusier FurnitureMaterialsAluminum, SteelView Full DetailsSmall Le Corbusier 'Lampe de Marseille Mini' Wall Lamp for Nemo in BlackPierre Jeanneret and Le Corbusier LC12 La Roche Table by CassinaBy Cassina, Pierre Jeanneret, Le CorbusierLocated in Barcelona, BarcelonaTable designed by Pierre Jeanneret and Le Corbusier circa 1925, relaunched in 2006.\n",
      "Manufactured by Cassina in Italy.\n",
      "\n",
      "This table, which was designed by Le Corbusier and Pierre Jeann...Category2010s Italian Mid-Century Modern  Le Corbusier FurnitureMaterialsSteelView Full DetailsPierre Jeanneret and Le Corbusier LC12 La Roche Table by CassinaEarly Production Leather 'LC3' Two-Seat Sofa by Le Corbusier for Cassina, SignedBy Cassina, Pierre Jeanneret, Charlotte Perriand, Le CorbusierLocated in Los Angeles, CAIf you want the most comfortable and cushioned sofa to sink your heinie into, this Le Corbusier for Cassina (signed) LC3 is the sofa for you (and of course, your heinie). Large and i...Category1980s Italian Bauhaus Vintage Le Corbusier FurnitureMaterialsChromeView Full DetailsEarly Production Leather 'LC3' Two-Seat Sofa by Le Corbusier for Cassina, SignedLe Corbusier LC3 Grand Confort 3-Seat Sofa, White Leather, Down, Cassina, ItalyBy Le Corbusier, Pierre Jeanneret, Charlotte Perriand Cassina, Cassina, Charlotte Perriand, Le Corbusier, Pierre JeanneretLocated in Brooklyn, NYLe Corbusier LC3 grand confort 3-seat sofa, white leather, down, Cassina, Italy. LC3 Divano 3 posti. Cromata structure. Pelle Scozia Bianco. Designed by Le Corbusier, Pierre Jeannere...CategoryMid-20th Century Italian Mid-Century Modern  Le Corbusier FurnitureMaterialsStainless SteelView Full DetailsLe Corbusier LC3 Grand Confort 3-Seat Sofa, White Leather, Down, Cassina, ItalyLe Corbusier LC1402 Wood Stool by CassinaBy Cassina, Le CorbusierLocated in Barcelona, BarcelonaStool designed by Le Corbusier in 1952-59. Relaunched in 2010.\n",
      "Manufactured by Cassina in Italy.\n",
      "\n",
      "Designed in 1952 for the Cabanon, a hut built by Le Corbusier on the French Riviera,...Category2010s Italian Mid-Century Modern  Le Corbusier FurnitureMaterialsWoodView Full DetailsLe Corbusier LC1402 Wood Stool by CassinaLC/PJ-TAT-14-A Boomerang Table / Authentic Mid-Century ModernBy Le CorbusierLocated in Zürich, CHThis table is an iconic design piece created by Le Corbusier and Pierre Jeanneret. It is raw in its simplicity and it shows a slightly patinated material. It's shape is beautifully f...Category1960s Indian Mid-Century Modern Vintage Le Corbusier FurnitureMaterialsTeakView Full DetailsLC/PJ-TAT-14-A Boomerang Table / Authentic Mid-Century ModernCorbusier Pair of Iconic Model LC2 Club Chairs in Chrome 1990sBy Cassina, Le CorbusierLocated in New York, NYPair of classic club chairs model LC2 in tubular chrome designed by Le Corbusier and Charlotte Perriand and produced by Cassina, Italy 1990s. Upholstered in luxurious sheered velvet.Category1990s Italian Modern  Le Corbusier FurnitureMaterialsChromeView Full DetailsCorbusier Pair of Iconic Model LC2 Club Chairs in Chrome 1990sSet of Six 'LC2' Leather Club Chairs by Le Corbusier for Alivar, SignedBy Alivar, Pierre Jeanneret, Le Corbusier, Charlotte PerriandLocated in Los Angeles, CAThis comfortable set of six (6) Le Corbusier for Alivar 'LC2' Club Chairs in gorgeous thick Italian brown leather, priced in this listing as a set. See our other listings for these p...Category1980s Italian Bauhaus Vintage Le Corbusier FurnitureMaterialsChromeView Full DetailsSet of Six 'LC2' Leather Club Chairs by Le Corbusier for Alivar, SignedLe Corbusier 'Parliament' Floor Lamp for Nemo in Black & YellowBy Le Corbusier, Nemo Lighting 1Located in Glendale, CALe Corbusier 'Parliament' floor lamp for Nemo in black and yellow. \r\n",
      "\r\n",
      "Le Corbusier designed the Parliament lamp for the Chandigarh Parliament in India. This iconic floor lamp featur...Category21st Century and Contemporary Italian Mid-Century Modern  Le Corbusier FurnitureMaterialsAluminum, SteelView Full DetailsLe Corbusier 'Parliament' Floor Lamp for Nemo in Black & YellowLe Corbusier Lounge Armchair LC4, Cassina Edition, Black PonyBy Le CorbusierLocated in Saint Ouen, FRLounge armchair LC4 Poney in black pony - Le Corbusier and Charlotte Perriand \r\n",
      "Cassina Edition\r\n",
      "2016\r\n",
      "Engraved and numbered \r\n",
      "Sold with its certificate \r\n",
      "\r\n",
      "Measures: D 157 cm W 55 c...Category2010s French   Le Corbusier FurnitureMaterialsLeatherView Full DetailsLe Corbusier Lounge Armchair LC4, Cassina Edition, Black PonyLe Corbusier 'La Roche' Metal and Glass Wall Lamp for NemoBy Le Corbusier, Nemo Lighting 1Located in Glendale, CALe Corbusier 'La Roche' metal and glass wall lamp for Nemo.\r\n",
      " \r\n",
      "Originally designed to illuminate large windows, this wall lamp was the first conceived by Le Corbusier for his projec...Category21st Century and Contemporary Italian Mid-Century Modern  Le Corbusier FurnitureMaterialsAluminumView Full DetailsLe Corbusier 'La Roche' Metal and Glass Wall Lamp for NemoLe Corbusier LC3 Fauteuil Grand Confort Amber Mohair Armchair, Cassina, ItalyBy Cassina, Le Corbusier, Pierre Jeanneret, Charlotte Perriand Cassina, Le Corbusier, Pierre Jeanneret, Charlotte PerriandLocated in Brooklyn, NYLe Corbusier LC3 Fauteuil Grand Confort Amber Mohair armchair, Cassina, Italy.\n",
      "Le Corbusier, Pierre Jeanneret, Charlotte Perriand for Cassina Italy, Imported to US by Atelier Interna...CategoryMid-20th Century Italian Mid-Century Modern  Le Corbusier FurnitureMaterialsStainless SteelView Full DetailsLe Corbusier LC3 Fauteuil Grand Confort Amber Mohair Armchair, Cassina, ItalyPierre Jeanneret Teak Mid-Century \"Office Chair\" for Chandigarh, India, 1950sBy Pierre Jeanneret, Le CorbusierLocated in Stockholm, SERare \"office chair\" in teak designed by Pierre Jeanneret for his and Le Corbusier's University project in Chandigarh, India during the 1950s. 100% authentic and in good vintage condi...Category1950s Indian Mid-Century Modern Vintage Le Corbusier FurnitureMaterialsRattan, TeakView Full DetailsPierre Jeanneret Teak Mid-Century \"Office Chair\" for Chandigarh, India, 1950sOriginal 'LC2' Sofa by Le Corbusier, Jeanneret & Perriand for CassinaBy Le Corbusier, Pierre Jeanneret, Charlotte Perriand Cassina, Charlotte Perriand, Pierre Jeanneret, Le CorbusierLocated in Lejre, DKGreat looking sofa in leather. Designed Charlotte Perriand and Pierre Jeanneret. The sofa been cleaned, waxed and is from a non-smoker home. Great original condition.Category1920s Italian Mid-Century Modern Vintage Le Corbusier FurnitureMaterialsLeatherView Full DetailsOriginal 'LC2' Sofa by Le Corbusier, Jeanneret & Perriand for CassinaLe Corbusier and Charlotte Perriand LC35 Maison du Brésil Set by CassinaBy Cassina, Charlotte Perriand, Le CorbusierLocated in Barcelona, BarcelonaReproduction of a student room in the Maison du Brésil, a set of a wardrobe-room divider, a bed, a desk, the Maison du Bresil stool and a wall-hung bookcase and blackboard. Set desig...Category2010s Italian Mid-Century Modern  Le Corbusier FurnitureMaterialsMetalView Full DetailsLe Corbusier and Charlotte Perriand LC35 Maison du Brésil Set by CassinaLe Corbusier (1887-1965) - Pierre Jeanneret (1896-1967) \"Lawyer Chair\"By Le CorbusierLocated in Altwies, LULe Corbusier (1887-1965) - Pierre Jeanneret (1896-1967)\n",
      "Lawyer chair model teak armchair with a flat sloping back and lateral bridged legs.\n",
      "Detached armrests with rounder cuffs. Seat...Category1950s Indian  Vintage Le Corbusier FurnitureMaterialsTeakView Full DetailsLe Corbusier (1887-1965) - Pierre Jeanneret (1896-1967) \"Lawyer Chair\"LC5 Sofa in Leather and Chrome by Le Corbusier for Cassina, Italy, 1974 circaBy Le Corbusier, Pierre Jeanneret, Charlotte Perriand Cassina, Le Corbusier, CassinaLocated in Milan, ITLC5 is an iconic designer sofa, distinguished by its pure, rectangular lines. Le Corbusier designed this large sofa with Pierre Jeanneret and Charlotte Perriand for the living room o...Category1970s Italian Mid-Century Modern Vintage Le Corbusier FurnitureMaterialsChromeView Full DetailsLC5 Sofa in Leather and Chrome by Le Corbusier for Cassina, Italy, 1974 circaLC/BD, Stool / Authentic Stool by Le Corbusier and B. DoshiBy Le CorbusierLocated in Zürich, CHThis stool is not only a fantastic piece, it’s a rare collectors item. It is raw in its simplicity, embodying an expressing a nonchalance. \r\n",
      "\r\n",
      "It is finally a historical piece from a...Category1650s Indian Mid-Century Modern Antique Le Corbusier FurnitureMaterialsIronView Full DetailsLC/BD, Stool / Authentic Stool by Le Corbusier and B. DoshiLe Corbusier LC16 Desk and Shelve and Cabanon Stools Set by CassinaBy Cassina, Le CorbusierLocated in Barcelona, BarcelonaWriting desk designed by Le Corbusier in 1957. Relaunched in 2010.\n",
      "Maison du Brésil and Cabanon Stools designed by Le Corbusier in 1952-59. Relaunched in 2010.\n",
      "Manufactured by Cassin...Category2010s Italian Mid-Century Modern  Le Corbusier FurnitureMaterialsWoodView Full DetailsLe Corbusier LC16 Desk and Shelve and Cabanon Stools Set by CassinaOffice Solid Desk by Pierre JeanneretBy Pierre Jeanneret, Le CorbusierLocated in Altwies, LUOffice solid desk in teak and teak veneer.\r\n",
      "Rectangular tray with sides and drooping supported by a double base\"\r\n",
      "compas,\"\r\n",
      "circa 1960.\r\n",
      "A certificate of expertise will be given to t...Category1960s Indian  Vintage Le Corbusier FurnitureMaterialsTeakView Full DetailsOffice Solid Desk by Pierre Jeanneret'LC2' Black Leather and Chrome Club Chair by Le Corbusier for Cassina, SignedBy Pierre Jeanneret, Le Corbusier, Charlotte Perriand, CassinaLocated in Los Angeles, CAThis incredibly comfortable Le Corbusier for Cassina (authentic signed) 'LC2' club chair in gorgeous thick Italian black leather is in excellent vintage condition and ready to be imm...CategoryEarly 2000s Italian Bauhaus  Le Corbusier FurnitureMaterialsChromeView Full Details'LC2' Black Leather and Chrome Club Chair by Le Corbusier for Cassina, SignedLC4 Black Pony, Le Corbusier / Charlotte PerriandBy Charlotte Perriand, Pierre Jeanneret, Le CorbusierLocated in Saint Ouen, FRLC4 Black pony - Le Corbusier/ Charlotte Perriand\r\n",
      "Black cowhide, black leather cushion\r\n",
      "Cassina edition - Engraved and numbered\r\n",
      "Perfect condition\r\n",
      "Certificate,\r\n",
      "circa 2016\r\n",
      "2900 Eu...Category2010s French   Le Corbusier FurnitureMaterialsSteel, IronView Full DetailsLC4 Black Pony, Le Corbusier / Charlotte PerriandSet of Four Le Corbusier, Pierre Jeanneret Charlotte Perriand LC1 Black LeatherBy Charlotte Perriand, Pierre Jeanneret, Le CorbusierLocated in Barcelona, BarcelonaLe Corbusier, Pierre Jeanneret and Charlotte Perriand LC1 black leather lounge chair\r\n",
      "chromed steel.\r\n",
      "By unknown manufacturer.\r\n",
      "Manufactured, circa 1970.\r\n",
      "\r\n",
      "In good original conditio...Category1970s French Mid-Century Modern Vintage Le Corbusier FurnitureMaterialsMetalView Full DetailsSet of Four Le Corbusier, Pierre Jeanneret Charlotte Perriand LC1 Black LeatherLe Corbusier 'Borne Béton Grande' Outdoor Floor Lamp for NemoBy Le Corbusier, Nemo Lighting 1Located in Glendale, CALe Corbusier 'Borne Béton Grande' floor lamp for Nemo.\r\n",
      "\r\n",
      "This monumental floor lamp is an authorized re-edition of Le Corbusier's concrete outdoor floor lamp, originally conceived f...Category21st Century and Contemporary Italian Mid-Century Modern  Le Corbusier FurnitureMaterialsConcreteView Full DetailsLe Corbusier 'Borne Béton Grande' Outdoor Floor Lamp for NemoPair of Early Production 'LC3' Lounge Chairs by Le Corbusier for Cassina, SignedBy Cassina, Le Corbusier, Charlotte Perriand, Pierre JeanneretLocated in Los Angeles, CAIf you want the most comfortable and sizable club chair to sink your heinie into, this authentic (signed) set of Le Corbusier for Cassina LC3's are the chairs for you (and of course,...Category1970s Italian Bauhaus Vintage Le Corbusier FurnitureMaterialsChromeView Full DetailsPair of Early Production 'LC3' Lounge Chairs by Le Corbusier for Cassina, SignedLC3 Sofa in Brown Leather by Le Corbusier, Jeanneret en Perriand for CassinaBy Cassina, Le Corbusier, Pierre Jeanneret, Charlotte Perriand Cassina, Charlotte Perriand, Pierre Jeanneret, Le CorbusierLocated in Tilburg, NLThis stylish and comfortable sofa is a real design classic. Designed in 1928 by Le Corbusier, Pierre Jeanneret and Charlotte Perriand, this sofa is one of the most recognisable piece...CategoryEarly 2000s Italian Bauhaus  Le Corbusier FurnitureMaterialsChromeView Full DetailsLC3 Sofa in Brown Leather by Le Corbusier, Jeanneret en Perriand for CassinaEarly Year LC2 Black Leather Three-Seat Sofa by Le Corbusier for Cassina, SignedBy Cassina, Pierre Jeanneret, Charlotte Perriand, Le CorbusierLocated in Los Angeles, CAThis incredibly comfortable Le Corbusier for Cassina 'LC2' three-seat sofa (authentic signed and earlier year production example with low number production number stamped on the fram...Category1970s Italian Bauhaus Vintage Le Corbusier FurnitureMaterialsSteelView Full DetailsEarly Year LC2 Black Leather Three-Seat Sofa by Le Corbusier for Cassina, SignedLe Corbusier Cassina LC6 Dining TableBy Cassina, Le CorbusierLocated in Los Angeles, CAThe LC6 table was originally designed in 1928, a mathematically refined structure of steel and glass. Made of aeronautical steel, the base is welded for a seamless finish with sculpt...Category1980s Italian Modern Vintage Le Corbusier FurnitureMaterialsSteelView Full DetailsLe Corbusier Cassina LC6 Dining TableLe Corbusier LC/BD-01-A Ahmedabad Console Desk / Authentic Mid-Century ModernBy Le CorbusierLocated in Zürich, CHThis beautiful console desk was created by B. Doshi and Le Corbusier. It is not only a very rare piece but also an item of museum quality. It is raw in its simplicity and splendid wi...CategoryMid-20th Century Indian Mid-Century Modern  Le Corbusier FurnitureMaterialsTeakView Full DetailsLe Corbusier LC/BD-01-A Ahmedabad Console Desk / Authentic Mid-Century Modern20th Century Design Icon Cassina LC4 Numbered Cow Fur Chaise LoungeBy Pierre Jeanneret, Le Corbusier, Cassina, Charlotte PerriandLocated in ITLC4 chaise lounge - Design icon of the 20th century, Designed in 1928 by Le Corbusier, Pierre Jeanneret and Charlotte Perriand and made famous since 1965 by Cassina. Exemplary signed...Category1960s European Bauhaus Vintage Le Corbusier FurnitureMaterialsSteelView Full Details20th Century Design Icon Cassina LC4 Numbered Cow Fur Chaise LoungeLe Corbusier, Louvers, 1957By Le CorbusierLocated in Paris, FRVertical shutter in the shape of plane wing, mounted on a pivot, regulating the opening of the ventilation embrasures.\r\n",
      "Folded and riveted aluminium sheet.\r\n",
      "Variants in different siz...Category1950s Indian  Vintage Le Corbusier FurnitureMaterialsAluminumView Full DetailsLe Corbusier, Louvers, 1957LC4 Pony Lounge Chair Black and White 3, Le Corbusier and Charlotte PerriandBy Pierre Jeanneret, Le Corbusier, Le Corbusier, Pierre Jeanneret, Charlotte Perriand Cassina, Charlotte PerriandLocated in Saint ouen, FRLC4 Pony lounge chair black and white 3 - Le Corbusier and Charlotte Perriand\r\n",
      "Edition Cassina\r\n",
      "Circa 2016\r\n",
      "In perfect condition\r\n",
      "Signature and engraved numbering\r\n",
      "Cassina certificat...Category2010s French Modern  Le Corbusier FurnitureMaterialsCowhideView Full DetailsLC4 Pony Lounge Chair Black and White 3, Le Corbusier and Charlotte PerriandLe Corbusier for Cassina LC3 Lounge Chairs in Black and Chrome Frame Early 1980sBy Pierre Jeanneret, Le Corbusier, Charlotte PerriandLocated in Seattle, WAIconic Bauhaus design by the Swiss-born architect Le Corbusier (Charles-Edouard Jeanneret) are the LC2 and LC3 armchairs. \r\n",
      "This vintage Fauteuil Grand Confort, or LC3 Lounge Chair, ...Category1980s Italian Bauhaus Vintage Le Corbusier FurnitureMaterialsChromeView Full DetailsLe Corbusier for Cassina LC3 Lounge Chairs in Black and Chrome Frame Early 1980sLe Corbusier LC14 Nantes Reze Wood Stool by CassinaBy Cassina, Le CorbusierLocated in Barcelona, BarcelonaStool designed by Le Corbusier in 1952-1959. Relaunched in 2018.\n",
      "Manufactured by Cassina in Italy.\n",
      "\n",
      "This stool/low table was created for the children’s rooms in the Unité d’Habitatio...Category2010s Italian Mid-Century Modern  Le Corbusier FurnitureMaterialsWoodView Full DetailsLe Corbusier LC14 Nantes Reze Wood Stool by CassinaEarly Year 'LC2' Black Leather Club Chairs by Le Corbusier for Cassina, SignedBy Cassina, Charlotte Perriand, Le Corbusier, Pierre JeanneretLocated in Los Angeles, CAThis incredibly comfortable pair of Le Corbusier for Cassina 'LC2' club chairs (authentic signed and earlier year production examples with low number production numbers stamped on bo...Category1970s Italian Bauhaus Vintage Le Corbusier FurnitureMaterialsSteelView Full DetailsEarly Year 'LC2' Black Leather Club Chairs by Le Corbusier for Cassina, SignedNature Morte, Le CorbusierBy Le CorbusierLocated in Paris, FR'Nature Morte' by Le Corbusier\r\n",
      "1930/1947\r\n",
      "Etching on wove paper, signed in pencil, numbered 64/100 with a dedication in pencil.\r\n",
      "64/100\r\n",
      "37 x 27 cm.\r\n",
      " Category1940s French  Vintage Le Corbusier FurnitureMaterialsPaperView Full DetailsNature Morte, Le Corbusier123NextLe Corbusier furniture for sale on 1stDibsLe Corbusier furniture is available for sale on 1stDibs. These distinctive objects are frequently made of metal and designed with extraordinary care. In our Le Corbusier collection, there are many options to choose from, although black editions of this piece are particularly popular. We stock 70 vintage versions of these items, while there are 18 modern editions to choose from as well. Many original furniture by Le Corbusier were created in Europe during the 20th century in the Mid-Century Modern style. If you are looking for additional options, many customers also consider furniture by Tecno, Marco Zanuso and Franco Albini. Le Corbusier furniture prices can vary depending on size, time period and other attributes.  On average, these items start at $350 and top out at $138,761, while pieces like these can sell for $5,073. More Le Corbusier InspirationInteriors Featuring Le CorbusierExplore the work of the world's best interior designersFrom the MagazineThe 16 Most Popular Mid-Century Modern ChairsCreators Similar to Le CorbusierTecnoShop All Tecno FurnitureGiancarlo PirettiShop All Giancarlo Piretti FurnitureFranco AlbiniShop All Franco Albini FurnitureArflexShop All Arflex FurnitureCarlo De CarliShop All Carlo de Carli FurnitureMarco ZanusoShop All Marco Zanuso FurnitureTito AgnoliShop All Tito Agnoli FurnitureTobia ScarpaShop All Tobia Scarpa FurniturePoltronovaShop All Poltronova FurnitureView MoreRecently ViewedView MoreMore Le Corbusier FurnitureLe Corbusier Lounge ChairsLe Corbusier ArmchairsLe Corbusier Club ChairsLe Corbusier ChairsLe Corbusier StoolsLe Corbusier Wall Lights and SconcesLe Corbusier Chaise LonguesLe Corbusier SofasLe Corbusier Desks and Writing TablesLe Corbusier Dining Room TablesLe Corbusier Dining Room ChairsLe Corbusier Floor LampsView All Popular Furniture Searches\n",
      "\n",
      "\n",
      "CategoriesFurnitureJewelry & WatchesFine ArtFashionCreatorsQuestions & AnswersNFTsTradeTrade ProgramSellersSeller ApplicationNFT Creator ApplicationSeller LoginSeller DirectoryOur CompanyAbout UsPressCareersInvestorsCustomer SupportContact 1stDibsVisit Support Center1stDibs PromiseConnect With UsIntrospective MagazineThe Mint | NFTs editorial© 1stDibs.com, Inc. 2022User AgreementPrivacy PolicyDo Not Sell My InfoSite MapThis site is protected by reCAPTCHA and the Google Privacy Policy and Terms of Service apply.\n",
      "\n",
      "\n",
      "\n",
      "\n",
      "\n",
      "\n",
      "\n",
      "\n",
      "\n",
      "\n",
      "\n",
      "\n",
      "\n",
      "\n",
      "\n",
      "\n",
      "\n",
      "\n",
      "\n",
      "\n",
      "\n",
      "\n",
      "\n",
      "\n",
      "\n",
      "\n",
      "\n",
      "\n",
      "\n",
      "\n",
      "\n",
      "\n",
      "\n",
      "\n",
      "\n",
      "\n",
      "\n",
      "\n",
      "\n",
      "\n",
      "\n",
      "\n",
      "\n",
      "\n",
      "\n",
      "\n",
      "\n",
      "\n",
      "\n",
      "\n",
      "\n",
      "\n",
      "\n",
      "\n",
      "\n",
      "\n",
      "\n",
      "\n",
      "\n",
      "\n",
      "\n",
      "\n",
      "\n"
     ]
    }
   ],
   "source": [
    "print(soup_text)"
   ]
  },
  {
   "cell_type": "code",
   "execution_count": 5,
   "id": "02255d89",
   "metadata": {},
   "outputs": [],
   "source": [
    "nlp = spacy.load(\"en_core_web_sm\")"
   ]
  },
  {
   "cell_type": "code",
   "execution_count": 51,
   "id": "a0f745fc",
   "metadata": {},
   "outputs": [],
   "source": [
    "text = soup_text"
   ]
  },
  {
   "cell_type": "code",
   "execution_count": 52,
   "id": "1bc52b58",
   "metadata": {},
   "outputs": [
    {
     "data": {
      "text/plain": [
       "37952"
      ]
     },
     "execution_count": 52,
     "metadata": {},
     "output_type": "execute_result"
    }
   ],
   "source": [
    "len(text)"
   ]
  },
  {
   "cell_type": "code",
   "execution_count": 53,
   "id": "88bb1bd4",
   "metadata": {},
   "outputs": [],
   "source": [
    "doc = nlp(text)"
   ]
  },
  {
   "cell_type": "code",
   "execution_count": 54,
   "id": "21c097e8",
   "metadata": {},
   "outputs": [
    {
     "name": "stdout",
     "output_type": "stream",
     "text": [
      "37952\n",
      "6009\n"
     ]
    }
   ],
   "source": [
    "print(len(text))\n",
    "print(len(doc))"
   ]
  },
  {
   "cell_type": "code",
   "execution_count": 55,
   "id": "f19b135d",
   "metadata": {},
   "outputs": [
    {
     "name": "stdout",
     "output_type": "stream",
     "text": [
      "\n",
      "\n",
      "\n",
      "\n",
      "\n",
      "\n",
      "\n",
      "\n",
      "\n",
      "\n",
      "\n",
      "\n",
      "\n",
      "\n",
      "\n",
      "\n",
      "\n",
      "\n",
      "\n",
      "\n"
     ]
    }
   ],
   "source": [
    "for token in text[0:10]:\n",
    "    print(token)"
   ]
  },
  {
   "cell_type": "code",
   "execution_count": 56,
   "id": "da7f7236",
   "metadata": {},
   "outputs": [
    {
     "name": "stdout",
     "output_type": "stream",
     "text": [
      "\n",
      "\n",
      "\n",
      "\n",
      "\n",
      "\n",
      "\n",
      "\n",
      "\n",
      "\n",
      "\n",
      "\n",
      "\n",
      "\n",
      "\n",
      "\n",
      "\n",
      "\n",
      "\n",
      "\n",
      "Le\n",
      "Corbusier\n",
      "Furniture\n",
      ":\n",
      "Chairs\n",
      ",\n",
      "Sofas\n",
      ",\n",
      "Tables\n",
      "&\n",
      "More\n",
      "-\n",
      "124\n",
      "For\n",
      "Sale\n",
      "at\n",
      "1stdibs\n",
      "|\n",
      "\"\n",
      "modern\n",
      "chair\n",
      "\"\n",
      "sofa\n",
      ",\n",
      "1959\n",
      "le\n",
      "corbusier\n",
      "armchair\n",
      ",\n",
      "1990\n",
      "corbusier\n",
      "\n",
      "\n",
      "\n",
      "\n",
      "\n",
      "\n",
      "\n",
      "\n",
      "\n",
      "\n",
      "\n",
      "\n",
      "\n",
      "\n",
      "\n",
      "\n",
      "\n",
      "\n",
      "\n",
      "\n",
      "\n",
      "\n",
      "\n",
      "\n",
      "\n",
      "\n",
      "Skip\n",
      "to\n",
      "main\n",
      "contentFurnitureSeatingSofasChairsArmchairsDining\n",
      "Room\n",
      "ChairsAll\n",
      "SeatingStorageCabinetsDressersNight\n",
      "StandsWardrobesBookcasesCredenzasAll\n",
      "StorageTablesDining\n",
      "TablesCoffee\n",
      "TablesSide\n",
      "TablesDesksAll\n",
      "TablesShop\n",
      "by\n",
      "StyleMid\n",
      "Century\n",
      "Modern\n",
      "Art\n",
      "Deco\n",
      "Louis\n",
      "XVIAll\n",
      "StylesShop\n",
      "Iconic\n",
      "DesignsEames\n",
      "Lounge\n",
      "ChairWishbone\n",
      "ChairEgg\n",
      "Chair\n",
      "Womb\n",
      "ChairAll\n",
      "Iconic\n",
      "DesignsShop\n",
      "by\n",
      "CreatorMilo\n",
      "BaughmanGio\n",
      "PontiLe\n",
      "Corbusier\n",
      "Ettore\n",
      "SottsassAll\n",
      "Creators\n",
      "More\n",
      "Ways\n",
      "to\n",
      "ShopNew\n",
      "ArrivalsFeatured\n",
      "Collection\n",
      ":\n",
      "2022\n",
      "Designer\n",
      "Survey\n",
      "Trend\n",
      ":\n",
      "Plaster\n",
      ",\n",
      "Clay\n",
      ",\n",
      "and\n",
      "TerracottaFeatured\n",
      "New\n",
      "&\n",
      "Custom\n",
      "DesignsAll\n",
      "FurnitureLightingShop\n",
      "by\n",
      "CategoryWall\n",
      "Lights\n",
      "&\n"
     ]
    }
   ],
   "source": [
    "for token in doc[0:100]:\n",
    "    print(token)"
   ]
  },
  {
   "cell_type": "code",
   "execution_count": 57,
   "id": "b3d9f1c0",
   "metadata": {},
   "outputs": [
    {
     "name": "stdout",
     "output_type": "stream",
     "text": [
      "\n",
      "\n",
      "\n",
      "\n",
      "\n",
      "\n",
      "\n",
      "\n",
      "\n",
      "\n",
      "\n",
      "\n",
      "\n",
      "\n",
      "\n",
      "\n",
      "\n",
      "\n",
      "\n",
      "Le Corbusier Furniture:\n",
      "Chairs, Sofas, Tables & More - 124 For Sale at 1stdibs | \"modern chair\" sofa, 1959 le corbusier armchair, 1990 corbusier\n",
      "\n",
      "\n",
      "\n",
      "\n",
      "\n",
      "\n",
      "\n",
      "\n",
      "\n",
      "\n",
      "\n",
      "\n",
      "\n",
      "\n",
      "\n",
      "\n",
      "\n",
      "\n",
      "\n",
      "\n",
      "\n",
      "\n",
      "\n",
      "\n",
      "Skip to main contentFurnitureSeatingSofasChairsArmchairsDining Room ChairsAll SeatingStorageCabinetsDressersNight StandsWardrobesBookcasesCredenzasAll StorageTablesDining TablesCoffee TablesSide TablesDesksAll TablesShop by StyleMid Century\n",
      "Modern Art Deco Louis XVIAll StylesShop Iconic DesignsEames Lounge ChairWishbone ChairEgg Chair Womb ChairAll Iconic DesignsShop by CreatorMilo\n",
      "BaughmanGio PontiLe Corbusier Ettore SottsassAll Creators More Ways to ShopNew ArrivalsFeatured Collection: 2022 Designer Survey Trend:\n",
      "Plaster, Clay, and TerracottaFeatured New & Custom DesignsAll FurnitureLightingShop by CategoryWall Lights & SconcesTable LampsFloor LampsChandeliers & PendantsShop by StyleMid-Century Modern LightingArt Deco LightingIndustrial LightingAll StylesShop by CreatorLouis PoulsenNoguchiBaccaratStilnovoAll CreatorsShop Iconic DesignsArtichoke LampArco LampSputnik ChandelierAll Iconic DesignsMore Ways to ShopNew ArrivalsFeatured New & Custom DesignsAll LightingDecorTablewareFlatwareDinnerwareBarwareAll TablewareDecorative ObjectsSculpturesVases & VesselsBowls & BasketsBoxesCollectibles & CuriositiesAll Decorative ObjectsHome AccentsMirrorsRugs & CarpetsWall DecorClocksPillows and ThrowsAll Home\n",
      "AccentsMore Ways to ShopNew ArrivalsFeatured New & Custom DesignsGifts for the HomeAll DecorArtShop by CategorySculpturesPaintingsDrawings & Watercolor PaintingsPrintsPhotographyShop by StyleContemporary ArtPop ArtImpressionist ArtOld Master ArtAll StylesShop by ArtistAndy WarholKeith HaringSalvador DaliPablo PicassoAll\n",
      "ArtistsMore Ways to ShopNew ArrivalsAll ArtCurated by Anna Condo, New York-based filmmaker, photographer and artist, FLOWER GANG, is  a collection of 100 floral NFTs created by well known crypto artists who both center practices around florals and those who are well regarded in the space for other art.\n",
      "FLOWER GANGNFTsBrowse by MediumStatic ImagesAnimated GIFsVideos3DShop AllBrowse by CreatorAnna CondoSynchrodogsSaeko EharaSam YoukilisAdama Delphine FawunduIgnasi MonrealCoverArtGuyGisel FlorezAngie Taylor All CreatorsExhibitionsFLOWER GANGBL00MIDentity: (Self)-Made by WomenThe ConversationA Strange World View All Exhibitions EditorialThe MintJewelry & WatchesShop\n",
      "By CategoryEngagement RingsRingsWatchesEarringsCufflinksBraceletsNecklacesBroochesShop by CreatorRolexCartierPatek PhilippeTiffany & Co.Audemars PiguetAll CreatorsShop Iconic DesignsCartier Love BraceletCartier Love RingPatek Philippe NautilusCartier Panthère\n",
      "WatchAll Iconic DesignsMore Ways to ShopNew ArrivalsFeatured: Design Your Own Featured Contemporary JewelrySolitaire RingsGold\n",
      "JewelryFashion JewelryMen's JewelryWomen's JewelryDiamond JewelryAll JewelryFashionShop by CategoryClothingHandbagsShoesAccessoriesShop\n",
      "By DesignerHermèsChanelPradaAlexander McQueenGucciYves Saint LaurentLouis VuittonAll DesignersShop\n",
      "Iconic DesignsHermès Birkin BagHermès Kelly BagAll Iconic DesignsMore Ways to ShopNew ArrivalsWedding DressesAll FashionWorld of 1stDibsMagazineIntrospective MagazineOur StoryAbout 1stDibsThe 1stDibs\n",
      "PromiseOur Vetting ProcessThe 1stDibs Luxury E-Commerce ReportPressSellersSeller DirectoryRecognized DealersAntiques Associations MembersArt Dealers Association of AmericaAssociation of International Photography DealersInternational Fine Print Dealers AssociationSociety of London Art DealersAssociation of Women Art DealersInterior DesignersThe 1stDibs 50Design Firm DirectoryNew York Design FirmsLondon Design FirmsParis Design FirmsDesigner Connection ServiceInspiration from Our DesignersEntrywayLiving RoomDining RoomKitchenBedroomOfficeView All RoomsSaleAuctions\n",
      "\n",
      "\n",
      "HomeCreatorsLe CorbusierFurnitureLe Corbusier FurnitureFollowFrench, Swiss, 1887-1965Swiss-born Charles-Édouard Jeanneret, best known by his adopted name Le Corbusier, was a highly influential architect, designer, painter, urban planner and writer whose career spanned almost five decades.\n",
      "A pioneer of progress-minded modern architecture, Le Corbusier sought to impose a rational order on the chaos of the world through design.\n",
      "He rejected the excessive architectural ornament and developed a style that became known as brutalism, creating buildings with elemental geometric forms that were made of industrial materials such as steel and reinforced concrete.\n",
      "Le Corbusier believed that pure, well-designed spaces could offer a lesson in how little is needed to achieve happiness.\n",
      "To convey this notion, the architect prioritized modern, open interiors and emphasized light, rational designs.\n",
      "His architecture and interiors share a clear sense of space and structural order, underlining the beauty in harmony, proportion and simplicity.\n",
      "Le Corbusier’s furniture espouses these same ideals.\n",
      "His designs are spare, minimal and efficient but at the same time offer supreme comfort.\n",
      "Collaborating with his cousin, Pierre Jeanneret, and trailblazing designer Charlotte Perriand, he devised such iconic pieces as the LC2 Petit Confort armchair and the LC4 chaise longue.\n",
      "Each couples a tubular chrome frame with soft, supple leather upholstery, lending an organic warmth to an industrially made design.\n",
      "In his furniture, Le Corbusier broke new ground in ergonomics.\n",
      "The shape of the LC4 chaise is taken directly from the human form; the classic cowhide upholstery makes the sitter feel weightless; and the piece features an adjustable positioning mechanism to promote total relaxation.\n",
      "Such planning and intelligence were the hallmarks of Le Corbusier’s career.\n",
      "Whether in his designs for private residences such as the Villa Savoye near Paris, apartment towers like the Unité D'habitation in Marseilles, or in his furniture, he worked toward a style of living that was expansive and flexible.\n",
      "The strength and simplicity of line of Le Corbusier’s sofas and other seating pieces give them a sculptural presence in any décor, yet they are sublimely restful.\n",
      "And as you will see on 1stDibs, Le Corbusier’s furniture reflects a worldly taste: it is at once refined, cosmopolitan and chic.\n",
      "Iconic Designs from Le CorbusierExplore timeless pieces that have earned their place in history.\n",
      "LC4 Chaise LongueLC2 Petit Confort ChairLC3 Grand Confort ChairLC1 ChairCategoryBack To All CategoriesFurniture124Seating65Lighting25Tables14Serveware, Ceramics, Silver and Glass10Decorative Objects6Building and Garden Elements3More Furniture and Collectibles3Wall Decorations3Case Pieces and Storage Cabinets2Rugs and Carpets1See MoreItem typeAllAntique and Vintage75New and Made To Order4021st Century Pre-Owned9PriceAny priceUnder $2,000Under $5,000Under $10,000$10,000 and uptoOn sale27Shipping OptionsItem LocationAnywhereEurope62USA61Search LocationsStyleMid-Century Modern72Modern8Period18th Century and Earlier220th Century7321st Century and Contemporary49Early 20th Century5Mid-20th\n",
      "Century35Late 20th Century291920s31930s21940s11950s161960s71970s141980s91990s4See MoreColorMaterialMetal76Animal Skin44Leather36Chrome27Steel25Search\n",
      "MaterialsAvailabilityAll124In Stock Now86In Stock\n",
      "Within 6 weeks87Place of OriginEurope106Italy68France31Asia15India15Search PlacesCreatorLe Corbusier69Tiffany & Co.5,108Georg Jensen2,197Royal Copenhagen1,856Mehraban Rugs1,842Search CreatorsClearDisplayDimensionsExclude\n",
      "SoldCustomizable Items OnlyReturnable Items OnlyRecognized Seller ListingsTop Seller ListingsRecommendedNewestPrice: High - LowPrice: Low - HighPopular60 per page120 per pageCreator: Le CorbusierClear AllLe Corbusier LC16\n",
      "Writing Wood Desk and Shelve by CassinaBy Cassina, Le CorbusierLocated in Barcelona, BarcelonaWriting desk designed by Le Corbusier in 1957.\n",
      "Relaunched in 2010.\n",
      "\r\n",
      "Manufactured by Cassina in Italy.\n",
      "\r\n",
      "\r\n",
      "Defying the laws of physics, going beyond what we normally understand by the ...Category2010s Italian Mid-Century Modern  Le Corbusier FurnitureMaterialsWoodView Full DetailsLe Corbusier LC16\n",
      "Writing Wood Desk and Shelve by CassinaLe Corbusier 'Borne Béton Petite' Table Lamp for NemoBy\n",
      "Le Corbusier, Nemo Lighting 1Located in Glendale, CALe Corbusier 'Borne Béton Petite' table lamp for Nemo.\n",
      "\r\n",
      "\r\n",
      "\n",
      "This iconic table lamp is an authorized re-edition of Le Corbusier's 'Borne Béton' concrete lamp in a table version, origina...Category21st Century and Contemporary Italian Mid-Century Modern  Le Corbusier FurnitureMaterialsConcreteView Full DetailsLe Corbusier 'Borne Béton Petite' Table Lamp for NemoLe\n",
      "Corbusier LC14 Cabanon Wood Stool by CassinaBy Cassina, Le CorbusierLocated in Barcelona, BarcelonaStool designed by Le Corbusier in 1952-59.\n",
      "Relaunched in 2010.\n",
      "\n",
      "Manufactured by Cassina in Italy.\n",
      "\n",
      "\n",
      "Designed in 1952 for the Cabanon, a hut built by Le Corbusier on the French Riviera,...Category2010s Italian Mid-Century Modern  Le Corbusier FurnitureMaterialsWoodView Full DetailsLe Corbusier LC14 Cabanon Wood Stool by CassinaLC3 Lounge Chairs, Le Corbusier by Cassina, 1970sBy Le Corbusier, CassinaLocated in Renens, CHProbably the most well-known designs by the Swiss-born architect Le Corbusier (Charles-Edouard Jeanneret) are the LC2 and LC3 armchairs.\n",
      "Le Corbusier hardly needs an introduction, hi...Category1970s\n",
      "Italian Mid-Century Modern Vintage Le Corbusier FurnitureMaterialsMetalView Full DetailsLC3 Lounge Chairs, Le Corbusier by Cassina, 1970sLe Corbusier for Cassina LC4 Mid Century Black Leather ChaiseBy Le Corbusier, CassinaLocated in Countryside, ILLe Corbusier for Cassina LC4 mid century black leather chaise\r\n",
      "\r\n",
      "This chaise measures: 89 wide x 24 deep x 27 inches high\r\n",
      "\r\n",
      "All pieces of furniture can be had in what we call restor...Category1970s English Mid-Century Modern Vintage Le Corbusier FurnitureMaterialsMetal, ChromeView Full DetailsLe Corbusier for Cassina LC4 Mid Century Black Leather ChaiseCoffee Table 'LC10' by Le Corbusier for Cassina, 1924By Le Corbusier, CassinaLocated in Echt, NLBeautiful LC10 coffee table in very good condition.\n",
      "\n",
      "\n",
      "Designed by Le Corbusier in 1924\n",
      "\n",
      "Manufactured by Cassina \n",
      "\n",
      "The table has a thick glass top which rests on a mat black frame with...CategoryMid-20th Century Italian Mid-Century Modern  Le Corbusier FurnitureMaterialsMetal, ChromeView Full DetailsCoffee Table 'LC10' by Le Corbusier for Cassina, 1924Borne Bétone Petite Cast Concrete Table Lamp by Le Corbusier With LED Bulb By Le CorbusierLocated in Chicago, ILBorne Bétone Petite table lamp by Le Corbusier.\n",
      "\r\n",
      "Current production manufactured in France by Nemo Lighting.\n",
      "Concrete outdoor and indoor floor and table lamp, conceived for the Unit...Category2010s French Mid-Century Modern  Le Corbusier FurnitureMaterialsConcreteView Full DetailsBorne Bétone Petite Cast Concrete Table Lamp by Le Corbusier With\n",
      "LED Bulb Le Corbusier LC14\n",
      "Maison Du Brésil Wood Stool by CassinaBy Cassina, Le CorbusierLocated in Barcelona, BarcelonaStool designed by Le Corbusier in 1952-59.\n",
      "Relaunched in 2010.\n",
      "\n",
      "Manufactured by Cassina in Italy.\n",
      "\n",
      "\n",
      "Designed by Le Corbusier in 1959 for the Maison du Brésil at the Cité International ...Category2010s Italian Mid-Century Modern  Le Corbusier FurnitureMaterialsWoodView Full DetailsLe Corbusier LC14\n",
      "Maison Du Brésil Wood Stool by CassinaCharlotte Perriand, Le Corbusier LC7 Siège Tournant, Fauteuil, Set of 4 ChairsBy Cassina, Le Corbusier, Pierre Jeanneret, Charlotte Perriand Cassina, Charlotte Perriand, Le CorbusierLocated in Brooklyn, NYCharlotte Perriand, Le Corbusier LC7 Siège Tournant, Fauteuil, Set of 4 Chairs.\n",
      "Cassina.\n",
      "Made in Italy.\n",
      "\r\n",
      "Designed by Charlotte Perriand in 1927 for her Paris apartment in Place Sain...\n",
      "CategoryMid-20th Century Italian Mid-Century Modern  Le Corbusier FurnitureMaterialsStainless SteelView Full DetailsCharlotte Perriand, Le Corbusier LC7 Siège Tournant, Fauteuil, Set of 4 Chairs'LC2' Three-Seat Sofa by Le Corbusier, Jeanneret & Perriand for Cassina, SignedBy Cassina, Le Corbusier, Charlotte Perriand, Pierre JeanneretLocated in Los Angeles, CAThis incredibly comfortable Le Corbusier for Cassina (authentic signed)\n",
      "LC2 three-seat sofa with charcoal grey fabric cushions and tubular chrome frame.\n",
      "\r\n",
      "\r\n",
      "The LC2 was designed in 1...Category2010s Italian Bauhaus  Le Corbusier FurnitureMaterialsChromeView Full Details'LC2' Three-Seat Sofa by Le Corbusier, Jeanneret & Perriand for Cassina, SignedEarly Production 'LC3' Lounge Chairs by Le Corbusier for Cassina, c 1970, SignedBy Cassina, Le Corbusier, Charlotte Perriand, Pierre JeanneretLocated in Los Angeles, CAIf you want the most comfortable and sizable club chair to sink your heinie into, this authentic (signed) set of Le Corbusier for Cassina LC3's are the chairs for you (and of course,...Category1970s\n",
      "Italian Bauhaus Vintage Le Corbusier FurnitureMaterialsChromeView\n",
      "Full DetailsEarly Production 'LC3' Lounge Chairs by Le Corbusier for Cassina, c 1970, SignedDesigned by Le Corbusier for Lumax Molded Glass Desk Accessory Ashtray CatchallBy Lumax, Le CorbusierLocated in Atlanta, GAIndustrial thick molded glass desktop accessory (desk tidy, ashtray or catchall) manufactured by Lumax, France.\n",
      "Original design by Le Corbusier.\n",
      "\n",
      "Measurements: 4.50 in.\n",
      "wide (11.5 cm)...Category1950s French Mid-Century Modern Vintage Le Corbusier FurnitureMaterialsGlassView Full DetailsDesigned by Le Corbusier for Lumax Molded Glass Desk Accessory Ashtray CatchallLe Corbusier, Charlotte Perriand Ashtray for LumaxBy Charlotte Perriand, Le CorbusierLocated in Barcelona, BarcelonaLe Corbusier and Charlotte Perriand Ashtray\r\n",
      "\r\n",
      "\n",
      "In original condition with minor wear consistent of age and use, preserving a beautiful patina.\n",
      "\r\n",
      "\r\n",
      "Material:\r\n",
      "Glass\r\n",
      "\r\n",
      "Dimensions:\r\n",
      "D 1...Category1970s French Mid-Century Modern Vintage Le Corbusier FurnitureMaterialsGlassView Full DetailsLe Corbusier, Charlotte Perriand Ashtray for LumaxMonumental Le Corbusier 'Escargot' Sculptural Cast Brass Floor Lamp for NemoBy\n",
      "Le Corbusier, Nemo Lighting 1Located in Glendale, CAMonumental Le Corbusier 'Escargot' sculptural cast brass floor lamp for Nemo.\n",
      "\n",
      "\n",
      "This nature-inspired sculptural floor lamp was originally designed by Le Corbusier for the public space...Category21st Century and Contemporary Italian Mid-Century Modern  Le Corbusier FurnitureMaterialsAluminum, BrassView Full DetailsMonumental Le Corbusier 'Escargot' Sculptural Cast Brass Floor Lamp for NemoLe\n",
      "Corbusier LC17 Portemanteau Coat Rack by CassinaBy Cassina, Le CorbusierLocated in Barcelona, BarcelonaCoat rack designed by Le Corbusier in 1957.\n",
      "Relaunched in 2010.\n",
      "\n",
      "Manufactured by Cassina in Italy.\n",
      "\n",
      "\n",
      "This coat rack was originally created by Le Corbusier for the Cabanon, a summer-hou...Category2010s Italian Mid-Century Modern  Le Corbusier FurnitureMaterialsWoodView Full DetailsLe Corbusier LC17 Portemanteau Coat Rack by CassinaDesigned by Le Corbusier for Lumax 1950s Nevada Molded Glass Desk Tidy AshtrayBy Lumax, Le CorbusierLocated in Atlanta, GA1950s Industrial thick molded glass desktop accessory, desk tidy, or cigar ashtray manufactured by Lumax, France.\n",
      "Original design by Le Corbusier, this model named \"Nevada\" was used ...Category1950s French Mid-Century Modern Vintage Le Corbusier FurnitureMaterialsGlassView\n",
      "Full DetailsDesigned by Le Corbusier for Lumax 1950s Nevada Molded Glass Desk Tidy AshtrayPair of 'LC3' Lounge Chairs by Le Corbusier for Cassina, SignedBy Cassina, Pierre Jeanneret, Charlotte Perriand, Le CorbusierLocated in Los Angeles, CAIf you want the most comfortable and sizable club chair to sink your heinie into, this pair of Le Corbusier for Cassina (signed) LC3's are the chairs for you (and of course, your hei...\n",
      "CategoryEarly 2000s Italian Bauhaus  Le Corbusier FurnitureMaterialsChromeView\n",
      "Full DetailsPair of 'LC3' Lounge Chairs by Le Corbusier for Cassina, SignedLe Corbusier Set of 2 White Leather Armchairs Model, LC1 for Cassina, 1970sBy Cassina, Charlotte Perriand, Pierre Jeanneret, Le CorbusierLocated in The Hague, NLSet of 2 armchairs designed by Le Corbusier and manufactured for Cassina, famous Italian furniture manufacture in 1970s period.\n",
      "\r\n",
      "Both chairs are original signed, low number early edi...Category1970s\n",
      "Italian Mid-Century Modern Vintage Le Corbusier FurnitureMaterialsChromeView Full DetailsLe Corbusier Set of 2 White Leather Armchairs Model, LC1 for Cassina, 1970sLe Corbusier 'Parliament' Floor Lamp for Nemo in Black & RedBy Le Corbusier, Nemo Lighting 1Located in Glendale, CALe Corbusier 'Parliament' floor lamp for Nemo in black and red.\n",
      "\r\n",
      "\r\n",
      "Le Corbusier designed the Parliament lamp for the Chandigarh Parliament in India.\n",
      "This iconic floor lamp features ...Category21st Century and Contemporary Italian Mid-Century Modern  Le Corbusier FurnitureMaterialsAluminum, SteelView Full DetailsLe Corbusier 'Parliament' Floor Lamp for Nemo in Black & RedLe Corbusier 'Lampe de Marseille' Wall Lamp for Nemo in WhiteBy Le Corbusier, Nemo Lighting 1Located in Glendale, CALe Corbusier Lampe de Marseille wall lamp for Nemo in Matte White.\n",
      "\r\n",
      "\r\n",
      "Designed by Le Corbusier for the Unité d’Habitation of Marseille in 1949/1952, this wall lamp is both architectu...Category21st Century and Contemporary Italian Mid-Century Modern  Le Corbusier FurnitureMaterialsAluminum, SteelView Full DetailsLe Corbusier 'Lampe de Marseille' Wall Lamp for Nemo in WhiteLe Corbusier LC14 Cabanon Wood Stool by CassinaBy Cassina, Le CorbusierLocated in Barcelona, BarcelonaStool designed by Le Corbusier in 1952-59.\n",
      "Relaunched in 2010.\n",
      "\r\n",
      "Manufactured by Cassina in Italy.\n",
      "\r\n",
      "\r\n",
      "Designed in 1952 for the Cabanon, a hut built by Le Corbusier on the French Rivie...Category2010s Italian Mid-Century Modern  Le Corbusier FurnitureMaterialsWoodView Full DetailsLe Corbusier LC14 Cabanon Wood Stool by CassinaLe Corbusier, Charlotte Perriand Ashtray for LumaxBy Le Corbusier, Charlotte PerriandLocated in Barcelona, BarcelonaLe Corbusier and Charlotte Perriand ashtray\r\n",
      "\r\n",
      "\r\n",
      "\n",
      "In original condition with minor wear consistent of age and use, preserving a beautiful patina.\n",
      "\r\n",
      "\r\n",
      "Material:\r\n",
      "Glass\r\n",
      "\r\n",
      "Dimensions:\r\n",
      "D...Category1970s French Mid-Century Modern Vintage Le Corbusier FurnitureMaterialsGlassView Full DetailsLe Corbusier, Charlotte Perriand Ashtray for LumaxSmall Le Corbusier 'Lampe de Marseille Mini' Wall Lamp for Nemo in BlackBy Nemo Lighting 1, Le CorbusierLocated in Glendale, CASmall Le Corbusier 'Lampe de Marseille Mini' wall lamp for Nemo in black.\n",
      "\r\n",
      "\r\n",
      "Designed by Le Corbusier for the Unité d’Habitation of Marseille in 1949/1952, this wall lamp is both arc...Category21st Century and Contemporary Italian Mid-Century Modern  Le Corbusier FurnitureMaterialsAluminum,\n",
      "SteelView Full DetailsSmall Le Corbusier 'Lampe de Marseille Mini' Wall Lamp for Nemo in BlackPierre Jeanneret and Le Corbusier LC12 La Roche Table by CassinaBy Cassina, Pierre Jeanneret, Le CorbusierLocated in Barcelona, BarcelonaTable designed by Pierre Jeanneret and Le Corbusier circa 1925, relaunched in 2006.\n",
      "\n",
      "Manufactured by Cassina in Italy.\n",
      "\n",
      "\n",
      "This table, which was designed by Le Corbusier and Pierre Jeann...Category2010s Italian Mid-Century Modern  Le Corbusier FurnitureMaterialsSteelView Full DetailsPierre Jeanneret and Le Corbusier LC12 La Roche Table by CassinaEarly Production Leather 'LC3' Two-Seat Sofa by Le Corbusier for Cassina, SignedBy Cassina, Pierre Jeanneret, Charlotte Perriand, Le CorbusierLocated in Los Angeles, CAIf you want the most comfortable and cushioned sofa to sink your heinie into, this Le Corbusier for Cassina (signed) LC3 is the sofa for you (and of course, your heinie).\n",
      "Large and i...Category1980s\n",
      "Italian Bauhaus Vintage Le Corbusier FurnitureMaterialsChromeView\n",
      "Full DetailsEarly Production Leather 'LC3' Two-Seat Sofa by Le Corbusier for Cassina, SignedLe Corbusier LC3 Grand Confort 3-Seat Sofa, White Leather, Down, Cassina, ItalyBy Le Corbusier, Pierre Jeanneret, Charlotte Perriand Cassina, Cassina, Charlotte Perriand, Le Corbusier, Pierre JeanneretLocated in Brooklyn, NYLe Corbusier LC3 grand confort 3-seat sofa, white leather, down, Cassina, Italy.\n",
      "LC3 Divano 3 posti.\n",
      "Cromata structure.\n",
      "Pelle Scozia Bianco.\n",
      "Designed by Le Corbusier, Pierre Jeannere...CategoryMid-20th Century Italian Mid-Century Modern  Le Corbusier FurnitureMaterialsStainless SteelView Full DetailsLe Corbusier LC3 Grand Confort 3-Seat Sofa, White Leather, Down, Cassina, ItalyLe Corbusier LC1402 Wood Stool by CassinaBy Cassina, Le CorbusierLocated in Barcelona, BarcelonaStool designed by Le Corbusier in 1952-59.\n",
      "Relaunched in 2010.\n",
      "\n",
      "Manufactured by Cassina in Italy.\n",
      "\n",
      "\n",
      "Designed in 1952 for the Cabanon, a hut built by Le Corbusier on the French Riviera,...Category2010s Italian Mid-Century Modern  Le Corbusier FurnitureMaterialsWoodView Full DetailsLe Corbusier LC1402 Wood Stool by CassinaLC/PJ-TAT-14-A Boomerang Table / Authentic Mid-Century ModernBy Le CorbusierLocated in Zürich, CHThis table is an iconic design piece created by Le Corbusier and Pierre Jeanneret.\n",
      "It is raw in its simplicity and it shows a slightly patinated material.\n",
      "It's shape is beautifully\n",
      "f...Category1960s Indian Mid-Century Modern Vintage Le Corbusier FurnitureMaterialsTeakView\n",
      "Full DetailsLC/PJ-TAT-14-A Boomerang Table / Authentic Mid-Century ModernCorbusier Pair of Iconic Model LC2 Club Chairs in Chrome 1990sBy Cassina, Le CorbusierLocated in New York, NYPair of classic club chairs model LC2 in tubular chrome designed by Le Corbusier and Charlotte Perriand and produced by Cassina, Italy 1990s.\n",
      "Upholstered in luxurious sheered velvet.Category1990s\n",
      "Italian Modern  Le Corbusier FurnitureMaterialsChromeView\n",
      "Full DetailsCorbusier Pair of Iconic Model LC2 Club Chairs in Chrome 1990sSet of Six 'LC2' Leather Club Chairs by Le Corbusier for Alivar, SignedBy Alivar, Pierre Jeanneret, Le Corbusier, Charlotte PerriandLocated in Los Angeles, CAThis comfortable set of six (6) Le Corbusier for Alivar 'LC2' Club Chairs in gorgeous thick Italian brown leather, priced in this listing as a set.\n",
      "See our other listings for these p...Category1980s\n",
      "Italian Bauhaus Vintage Le Corbusier FurnitureMaterialsChromeView\n",
      "Full DetailsSet of Six 'LC2' Leather Club Chairs by Le Corbusier for Alivar, SignedLe Corbusier 'Parliament' Floor Lamp for Nemo in Black & YellowBy Le Corbusier, Nemo Lighting 1Located in Glendale, CALe Corbusier 'Parliament' floor lamp for Nemo in black and yellow.\n",
      "\r\n",
      "\r\n",
      "Le Corbusier designed the Parliament lamp for the Chandigarh Parliament in India.\n",
      "This iconic floor lamp featur...Category21st Century and Contemporary Italian Mid-Century Modern  Le Corbusier FurnitureMaterialsAluminum, SteelView Full DetailsLe Corbusier 'Parliament' Floor Lamp for Nemo in Black & YellowLe Corbusier Lounge Armchair LC4, Cassina Edition, Black PonyBy\n",
      "Le CorbusierLocated in Saint Ouen, FRLounge armchair LC4 Poney in black pony - Le Corbusier and Charlotte Perriand \r\n",
      "Cassina Edition\r\n",
      "2016\r\n",
      "Engraved and numbered \r\n",
      "Sold with its certificate \r\n",
      "\r\n",
      "Measures:\n",
      "D 157 cm W 55 c...Category2010s French   Le Corbusier\n",
      "FurnitureMaterialsLeatherView Full DetailsLe Corbusier Lounge Armchair LC4, Cassina Edition, Black PonyLe\n",
      "Corbusier 'La Roche' Metal and Glass Wall Lamp for NemoBy\n",
      "Le Corbusier, Nemo Lighting 1Located in Glendale, CALe Corbusier 'La Roche' metal and glass wall lamp for Nemo.\r\n",
      " \r\n",
      "Originally designed to illuminate large windows, this wall lamp was the first conceived by Le Corbusier for his projec...Category21st Century and Contemporary Italian Mid-Century Modern  Le Corbusier FurnitureMaterialsAluminumView Full DetailsLe Corbusier 'La Roche' Metal and Glass Wall Lamp for NemoLe\n",
      "Corbusier LC3 Fauteuil Grand Confort Amber Mohair Armchair, Cassina, ItalyBy Cassina, Le Corbusier, Pierre Jeanneret, Charlotte Perriand Cassina, Le Corbusier, Pierre Jeanneret, Charlotte PerriandLocated in Brooklyn, NYLe Corbusier LC3 Fauteuil Grand Confort Amber Mohair armchair, Cassina, Italy.\n",
      "\n",
      "Le Corbusier, Pierre Jeanneret, Charlotte Perriand for Cassina Italy, Imported to US by Atelier Interna...CategoryMid-20th Century Italian Mid-Century Modern  Le Corbusier FurnitureMaterialsStainless SteelView Full DetailsLe Corbusier LC3 Fauteuil Grand Confort Amber Mohair Armchair, Cassina, ItalyPierre Jeanneret Teak Mid-Century \"Office Chair\" for Chandigarh, India, 1950sBy Pierre Jeanneret, Le CorbusierLocated in Stockholm, SERare \"office chair\" in teak designed by Pierre Jeanneret for his and Le Corbusier's University project in Chandigarh, India during the 1950s.\n",
      "100% authentic and in good vintage condi...Category1950s Indian Mid-Century Modern Vintage Le Corbusier FurnitureMaterialsRattan, TeakView Full DetailsPierre Jeanneret Teak Mid-Century \"Office Chair\" for Chandigarh, India, 1950sOriginal 'LC2' Sofa by Le Corbusier, Jeanneret & Perriand for CassinaBy Le Corbusier, Pierre Jeanneret, Charlotte Perriand Cassina, Charlotte Perriand, Pierre Jeanneret, Le CorbusierLocated in Lejre, DKGreat looking sofa in leather.\n",
      "Designed Charlotte Perriand and Pierre Jeanneret.\n",
      "The sofa been cleaned, waxed and is from a non-smoker home.\n",
      "Great original condition.\n",
      "Category1920s\n",
      "Italian Mid-Century Modern Vintage Le Corbusier FurnitureMaterialsLeatherView Full DetailsOriginal 'LC2' Sofa by Le Corbusier, Jeanneret & Perriand for CassinaLe Corbusier and Charlotte Perriand\n",
      "LC35 Maison du Brésil Set by CassinaBy Cassina, Charlotte Perriand, Le CorbusierLocated in Barcelona, BarcelonaReproduction of a student room in the Maison du Brésil, a set of a wardrobe-room divider, a bed, a desk, the Maison du Bresil stool and a wall-hung bookcase and blackboard.\n",
      "Set desig...Category2010s Italian Mid-Century Modern  Le Corbusier FurnitureMaterialsMetalView Full DetailsLe Corbusier and Charlotte Perriand LC35 Maison du Brésil Set by CassinaLe Corbusier (1887-1965) - Pierre Jeanneret (1896-1967) \"Lawyer Chair\"By Le CorbusierLocated in Altwies, LULe Corbusier (1887-1965) - Pierre Jeanneret (1896-1967)\n",
      "Lawyer chair model teak armchair with a flat sloping back and lateral bridged legs.\n",
      "\n",
      "Detached armrests with rounder cuffs.\n",
      "Seat...Category1950s Indian  Vintage Le Corbusier FurnitureMaterialsTeakView Full DetailsLe Corbusier (1887-1965) - Pierre Jeanneret (1896-1967) \"Lawyer Chair\"LC5 Sofa in Leather and Chrome by Le Corbusier for Cassina, Italy, 1974 circaBy Le Corbusier, Pierre Jeanneret, Charlotte Perriand Cassina, Le Corbusier, CassinaLocated in Milan, ITLC5 is an iconic designer sofa, distinguished by its pure, rectangular lines.\n",
      "Le Corbusier designed this large sofa with Pierre Jeanneret and Charlotte Perriand for the living room o...Category1970s Italian Mid-Century Modern Vintage Le Corbusier FurnitureMaterialsChromeView\n",
      "Full DetailsLC5 Sofa in Leather and Chrome by Le Corbusier for Cassina, Italy, 1974 circaLC/BD, Stool / Authentic Stool by Le Corbusier and B. DoshiBy Le CorbusierLocated in Zürich, CHThis stool is not only a fantastic piece, it’s a rare collectors item.\n",
      "It is raw in its simplicity, embodying an expressing a nonchalance.\n",
      "\r\n",
      "\r\n",
      "It is finally a historical piece from a...Category1650s Indian Mid-Century Modern Antique Le Corbusier FurnitureMaterialsIronView Full DetailsLC/BD, Stool / Authentic Stool by Le Corbusier and B. DoshiLe Corbusier LC16 Desk and Shelve and Cabanon Stools Set by CassinaBy Cassina, Le CorbusierLocated in Barcelona, BarcelonaWriting desk designed by Le Corbusier in 1957.\n",
      "Relaunched in 2010.\n",
      "\n",
      "Maison du Brésil and Cabanon Stools designed by Le Corbusier in 1952-59.\n",
      "Relaunched in 2010.\n",
      "\n",
      "Manufactured by Cassin...Category2010s Italian Mid-Century Modern  Le Corbusier FurnitureMaterialsWoodView Full DetailsLe Corbusier LC16 Desk and Shelve and Cabanon Stools Set by CassinaOffice Solid Desk by Pierre JeanneretBy Pierre Jeanneret, Le CorbusierLocated in Altwies, LUOffice solid desk in teak and teak veneer.\n",
      "\r\n",
      "Rectangular tray with sides and drooping supported by a double base\"\r\n",
      "compas,\"\r\n",
      "circa 1960.\n",
      "\r\n",
      "A certificate of expertise will be given to t...Category1960s Indian  Vintage Le Corbusier FurnitureMaterialsTeakView\n",
      "Full DetailsOffice Solid Desk by Pierre Jeanneret'LC2' Black Leather and Chrome Club Chair by Le Corbusier for Cassina, SignedBy Pierre Jeanneret, Le Corbusier, Charlotte Perriand, CassinaLocated in Los Angeles, CAThis incredibly comfortable Le Corbusier for Cassina (authentic signed) 'LC2' club chair in gorgeous thick Italian black leather is in excellent vintage condition and ready to be imm...\n",
      "CategoryEarly 2000s Italian Bauhaus  Le Corbusier FurnitureMaterialsChromeView Full Details'LC2' Black Leather and Chrome Club Chair by Le Corbusier for Cassina, SignedLC4 Black Pony, Le Corbusier / Charlotte PerriandBy Charlotte Perriand, Pierre Jeanneret, Le CorbusierLocated in Saint Ouen, FRLC4 Black pony - Le Corbusier/ Charlotte Perriand\r\n",
      "Black cowhide, black leather cushion\r\n",
      "Cassina edition - Engraved and numbered\r\n",
      "Perfect condition\r\n",
      "Certificate,\r\n",
      "circa 2016\r\n",
      "2900 Eu...Category2010s French   Le Corbusier FurnitureMaterialsSteel, IronView Full DetailsLC4 Black Pony, Le Corbusier / Charlotte PerriandSet of Four Le Corbusier, Pierre Jeanneret Charlotte Perriand LC1 Black LeatherBy Charlotte Perriand, Pierre Jeanneret, Le CorbusierLocated in Barcelona, BarcelonaLe Corbusier, Pierre Jeanneret and Charlotte Perriand LC1 black leather lounge chair\r\n",
      "chromed steel.\n",
      "\r\n",
      "By unknown manufacturer.\n",
      "\r\n",
      "Manufactured, circa 1970.\n",
      "\r\n",
      "\r\n",
      "\n",
      "In good original conditio...Category1970s French Mid-Century Modern Vintage Le Corbusier FurnitureMaterialsMetalView Full DetailsSet of Four Le Corbusier, Pierre Jeanneret Charlotte Perriand LC1 Black LeatherLe Corbusier 'Borne Béton Grande' Outdoor Floor Lamp for NemoBy\n",
      "Le Corbusier, Nemo Lighting 1Located in Glendale, CALe Corbusier 'Borne Béton Grande' floor lamp for Nemo.\n",
      "\r\n",
      "\r\n",
      "\n",
      "This monumental floor lamp is an authorized re-edition of Le Corbusier's concrete outdoor floor lamp, originally conceived f...Category21st Century and Contemporary Italian Mid-Century Modern  Le Corbusier FurnitureMaterialsConcreteView Full DetailsLe Corbusier 'Borne Béton Grande' Outdoor Floor Lamp for NemoPair of Early Production 'LC3' Lounge Chairs by Le Corbusier for Cassina, SignedBy Cassina, Le Corbusier, Charlotte Perriand, Pierre JeanneretLocated in Los Angeles, CAIf you want the most comfortable and sizable club chair to sink your heinie into, this authentic (signed) set of Le Corbusier for Cassina LC3's are the chairs for you (and of course,...Category1970s\n",
      "Italian Bauhaus Vintage Le Corbusier FurnitureMaterialsChromeView\n",
      "Full DetailsPair of Early Production 'LC3' Lounge Chairs by Le Corbusier for Cassina, SignedLC3 Sofa in Brown Leather by Le Corbusier, Jeanneret en Perriand for CassinaBy Cassina, Le Corbusier, Pierre Jeanneret, Charlotte Perriand Cassina, Charlotte Perriand, Pierre Jeanneret, Le CorbusierLocated in Tilburg, NLThis stylish and comfortable sofa is a real design classic.\n",
      "Designed in 1928 by Le Corbusier, Pierre Jeanneret and Charlotte Perriand, this sofa is one of the most recognisable piece...\n",
      "CategoryEarly 2000s Italian Bauhaus  Le Corbusier FurnitureMaterialsChromeView\n",
      "Full DetailsLC3 Sofa in Brown Leather by Le Corbusier, Jeanneret en Perriand for CassinaEarly Year LC2 Black Leather Three-Seat Sofa by Le Corbusier for Cassina, SignedBy Cassina, Pierre Jeanneret, Charlotte Perriand, Le CorbusierLocated in Los Angeles, CAThis incredibly comfortable Le Corbusier for Cassina 'LC2' three-seat sofa (authentic signed and earlier year production example with low number production number stamped on the fram...Category1970s\n",
      "Italian Bauhaus Vintage Le Corbusier FurnitureMaterialsSteelView Full DetailsEarly Year LC2 Black Leather Three-Seat Sofa by Le Corbusier for Cassina, SignedLe Corbusier Cassina LC6 Dining TableBy Cassina, Le CorbusierLocated in Los Angeles, CAThe LC6 table was originally designed in 1928, a mathematically refined structure of steel and glass.\n",
      "Made of aeronautical steel, the base is welded for a seamless finish with sculpt...Category1980s\n",
      "Italian Modern Vintage Le Corbusier FurnitureMaterialsSteelView Full DetailsLe Corbusier Cassina LC6 Dining TableLe Corbusier LC/BD-01-A Ahmedabad Console Desk / Authentic Mid-Century ModernBy Le CorbusierLocated in Zürich, CHThis beautiful console desk was created by B. Doshi and Le Corbusier.\n",
      "It is not only a very rare piece but also an item of museum quality.\n",
      "It is raw in its simplicity and splendid wi...CategoryMid-20th Century Indian Mid-Century Modern  Le Corbusier FurnitureMaterialsTeakView\n",
      "Full DetailsLe Corbusier LC/BD-01-A Ahmedabad Console Desk / Authentic Mid-Century Modern20th Century Design Icon Cassina LC4 Numbered Cow Fur Chaise LoungeBy Pierre Jeanneret, Le Corbusier, Cassina, Charlotte PerriandLocated in ITLC4 chaise lounge - Design icon of the 20th century, Designed in 1928 by Le Corbusier, Pierre Jeanneret and Charlotte Perriand and made famous since 1965 by Cassina.\n",
      "Exemplary signed...Category1960s European Bauhaus Vintage Le Corbusier FurnitureMaterialsSteelView Full Details20th Century Design Icon Cassina LC4 Numbered Cow Fur Chaise LoungeLe Corbusier, Louvers, 1957By Le CorbusierLocated in Paris, FRVertical shutter in the shape of plane wing, mounted on a pivot, regulating the opening of the ventilation embrasures.\n",
      "\r\n",
      "Folded and riveted aluminium sheet.\n",
      "\r\n",
      "Variants in different siz...Category1950s Indian  Vintage Le Corbusier FurnitureMaterialsAluminumView Full DetailsLe Corbusier, Louvers, 1957LC4 Pony Lounge Chair Black and White 3, Le Corbusier and Charlotte PerriandBy Pierre Jeanneret, Le Corbusier, Le Corbusier, Pierre Jeanneret, Charlotte Perriand Cassina, Charlotte PerriandLocated in Saint ouen, FRLC4 Pony lounge chair black and white 3 - Le Corbusier and Charlotte Perriand\r\n",
      "Edition Cassina\r\n",
      "Circa 2016\r\n",
      "In perfect condition\r\n",
      "Signature and engraved numbering\r\n",
      "Cassina certificat...Category2010s French Modern  Le Corbusier FurnitureMaterialsCowhideView\n",
      "Full DetailsLC4 Pony Lounge Chair Black and White 3, Le Corbusier and Charlotte PerriandLe Corbusier for Cassina LC3 Lounge Chairs in Black and Chrome Frame Early 1980sBy Pierre Jeanneret, Le Corbusier, Charlotte PerriandLocated in Seattle, WAIconic Bauhaus design by the Swiss-born architect Le Corbusier (Charles-Edouard Jeanneret) are the LC2 and LC3 armchairs.\n",
      "\r\n",
      "This vintage Fauteuil Grand Confort, or LC3 Lounge Chair, ...Category1980s\n",
      "Italian Bauhaus Vintage Le Corbusier FurnitureMaterialsChromeView Full DetailsLe Corbusier for Cassina LC3 Lounge Chairs in Black and Chrome Frame Early 1980sLe Corbusier LC14\n",
      "Nantes Reze Wood Stool by CassinaBy Cassina, Le CorbusierLocated in Barcelona, BarcelonaStool designed by Le Corbusier in 1952-1959.\n",
      "Relaunched in 2018.\n",
      "\n",
      "Manufactured by Cassina in Italy.\n",
      "\n",
      "\n",
      "This stool/low table was created for the children’s rooms in the Unité d’Habitatio...Category2010s Italian Mid-Century Modern  Le Corbusier FurnitureMaterialsWoodView Full DetailsLe Corbusier LC14\n",
      "Nantes Reze Wood Stool by CassinaEarly Year 'LC2' Black Leather Club Chairs by Le Corbusier for Cassina, SignedBy Cassina, Charlotte Perriand, Le Corbusier, Pierre JeanneretLocated in Los Angeles, CAThis incredibly comfortable pair of Le Corbusier for Cassina 'LC2' club chairs (authentic signed and earlier year production examples with low number production numbers stamped on bo...Category1970s\n",
      "Italian Bauhaus Vintage Le Corbusier FurnitureMaterialsSteelView Full DetailsEarly Year 'LC2' Black Leather Club Chairs by Le Corbusier for Cassina, SignedNature Morte, Le CorbusierBy Le CorbusierLocated in Paris, FR'Nature Morte' by Le Corbusier\r\n",
      "1930/1947\r\n",
      "Etching on wove paper, signed in pencil, numbered 64/100 with a dedication in pencil.\n",
      "\r\n",
      "64/100\r\n",
      "37 x 27 cm.\n",
      "\r\n",
      " Category1940s French  Vintage Le Corbusier FurnitureMaterialsPaperView Full DetailsNature Morte, Le Corbusier123NextLe Corbusier furniture for sale on 1stDibsLe Corbusier furniture is available for sale on 1stDibs.\n",
      "These distinctive objects are frequently made of metal and designed with extraordinary care.\n",
      "In our Le Corbusier collection, there are many options to choose from, although black editions of this piece are particularly popular.\n",
      "We stock 70 vintage versions of these items, while there are 18 modern editions to choose from as well.\n",
      "Many original furniture by Le Corbusier were created in Europe during the 20th century in the Mid-Century Modern style.\n",
      "If you are looking for additional options, many customers also consider furniture by Tecno, Marco Zanuso and Franco Albini.\n",
      "Le Corbusier furniture prices can vary depending on size, time period and other attributes.\n",
      " On average, these items start at $350 and top out at $138,761, while pieces like these can sell for $5,073.\n",
      "More Le Corbusier InspirationInteriors Featuring Le CorbusierExplore the work of the world's best interior designersFrom the MagazineThe 16 Most Popular Mid-Century Modern ChairsCreators Similar to Le CorbusierTecnoShop All Tecno FurnitureGiancarlo PirettiShop\n",
      "All Giancarlo Piretti FurnitureFranco AlbiniShop All Franco Albini FurnitureArflexShop All Arflex FurnitureCarlo De CarliShop All Carlo de Carli FurnitureMarco ZanusoShop\n",
      "All Marco Zanuso FurnitureTito\n",
      "AgnoliShop All Tito Agnoli FurnitureTobia ScarpaShop All Tobia Scarpa FurniturePoltronovaShop\n",
      "All Poltronova FurnitureView MoreRecently ViewedView\n",
      "MoreMore Le Corbusier FurnitureLe Corbusier Lounge ChairsLe Corbusier ArmchairsLe Corbusier Club ChairsLe Corbusier ChairsLe Corbusier StoolsLe Corbusier Wall Lights and SconcesLe Corbusier Chaise LonguesLe Corbusier SofasLe Corbusier Desks and Writing TablesLe Corbusier Dining Room TablesLe Corbusier Dining Room ChairsLe Corbusier Floor LampsView All Popular Furniture Searches\n",
      "\n",
      "\n",
      "CategoriesFurnitureJewelry & WatchesFine ArtFashionCreatorsQuestions & AnswersNFTsTradeTrade ProgramSellersSeller ApplicationNFT Creator ApplicationSeller LoginSeller DirectoryOur\n",
      "CompanyAbout UsPressCareersInvestorsCustomer SupportContact 1stDibsVisit Support Center1stDibs PromiseConnect With UsIntrospective MagazineThe Mint | NFTs editorial© 1stDibs.com, Inc. 2022User AgreementPrivacy PolicyDo Not Sell My InfoSite MapThis site is protected by reCAPTCHA and the Google Privacy Policy and Terms of Service apply.\n",
      "\n",
      "\n",
      "\n",
      "\n",
      "\n",
      "\n",
      "\n",
      "\n",
      "\n",
      "\n",
      "\n",
      "\n",
      "\n",
      "\n",
      "\n",
      "\n",
      "\n",
      "\n",
      "\n",
      "\n",
      "\n",
      "\n",
      "\n",
      "\n",
      "\n",
      "\n",
      "\n",
      "\n",
      "\n",
      "\n",
      "\n",
      "\n",
      "\n",
      "\n",
      "\n",
      "\n",
      "\n",
      "\n",
      "\n",
      "\n",
      "\n",
      "\n",
      "\n",
      "\n",
      "\n",
      "\n",
      "\n",
      "\n",
      "\n",
      "\n",
      "\n",
      "\n",
      "\n",
      "\n",
      "\n",
      "\n",
      "\n",
      "\n",
      "\n",
      "\n",
      "\n",
      "\n",
      "\n",
      "\n"
     ]
    }
   ],
   "source": [
    "for sent in doc.sents:\n",
    "    print(sent)"
   ]
  },
  {
   "cell_type": "code",
   "execution_count": 67,
   "id": "52d4ec2e",
   "metadata": {},
   "outputs": [],
   "source": [
    "sentence170 = list(doc.sents)[170]"
   ]
  },
  {
   "cell_type": "code",
   "execution_count": 68,
   "id": "43081eed",
   "metadata": {},
   "outputs": [
    {
     "name": "stdout",
     "output_type": "stream",
     "text": [
      "Nantes Reze Wood Stool by CassinaBy Cassina, Le CorbusierLocated in Barcelona, BarcelonaStool designed by Le Corbusier in 1952-1959.\n"
     ]
    }
   ],
   "source": [
    "print(sentence170)"
   ]
  },
  {
   "cell_type": "code",
   "execution_count": 124,
   "id": "241b3ec4",
   "metadata": {},
   "outputs": [],
   "source": [
    "token_s170 = sentence170[6]"
   ]
  },
  {
   "cell_type": "code",
   "execution_count": 125,
   "id": "858f8bf7",
   "metadata": {},
   "outputs": [
    {
     "name": "stdout",
     "output_type": "stream",
     "text": [
      "Cassina\n"
     ]
    }
   ],
   "source": [
    "print(token_s170)"
   ]
  },
  {
   "cell_type": "code",
   "execution_count": 126,
   "id": "5847b352",
   "metadata": {},
   "outputs": [
    {
     "data": {
      "text/plain": [
       "'Cassina'"
      ]
     },
     "execution_count": 126,
     "metadata": {},
     "output_type": "execute_result"
    }
   ],
   "source": [
    "token_s170.text"
   ]
  },
  {
   "cell_type": "code",
   "execution_count": 127,
   "id": "01709dbf",
   "metadata": {},
   "outputs": [
    {
     "data": {
      "text/plain": [
       "Cassina"
      ]
     },
     "execution_count": 127,
     "metadata": {},
     "output_type": "execute_result"
    }
   ],
   "source": [
    "token_s170.right_edge"
   ]
  },
  {
   "cell_type": "code",
   "execution_count": 128,
   "id": "b1444453",
   "metadata": {},
   "outputs": [
    {
     "data": {
      "text/plain": [
       "CassinaBy"
      ]
     },
     "execution_count": 128,
     "metadata": {},
     "output_type": "execute_result"
    }
   ],
   "source": [
    "token_s170.left_edge"
   ]
  },
  {
   "cell_type": "code",
   "execution_count": 129,
   "id": "58f8a737",
   "metadata": {},
   "outputs": [
    {
     "data": {
      "text/plain": [
       "383"
      ]
     },
     "execution_count": 129,
     "metadata": {},
     "output_type": "execute_result"
    }
   ],
   "source": [
    "token_s170.ent_type"
   ]
  },
  {
   "cell_type": "code",
   "execution_count": 130,
   "id": "b5acd237",
   "metadata": {},
   "outputs": [
    {
     "data": {
      "text/plain": [
       "'ORG'"
      ]
     },
     "execution_count": 130,
     "metadata": {},
     "output_type": "execute_result"
    }
   ],
   "source": [
    "token_s170.ent_type_"
   ]
  },
  {
   "cell_type": "code",
   "execution_count": 131,
   "id": "3d170204",
   "metadata": {},
   "outputs": [
    {
     "data": {
      "text/plain": [
       "'I'"
      ]
     },
     "execution_count": 131,
     "metadata": {},
     "output_type": "execute_result"
    }
   ],
   "source": [
    "token_s170.ent_iob_"
   ]
  },
  {
   "cell_type": "code",
   "execution_count": 137,
   "id": "bea4446a",
   "metadata": {},
   "outputs": [
    {
     "data": {
      "text/plain": [
       "designed"
      ]
     },
     "execution_count": 137,
     "metadata": {},
     "output_type": "execute_result"
    }
   ],
   "source": [
    "sentence170[14]"
   ]
  },
  {
   "cell_type": "code",
   "execution_count": 138,
   "id": "6d2d8ea3",
   "metadata": {},
   "outputs": [
    {
     "data": {
      "text/plain": [
       "'design'"
      ]
     },
     "execution_count": 138,
     "metadata": {},
     "output_type": "execute_result"
    }
   ],
   "source": [
    "sentence170[14].lemma_"
   ]
  },
  {
   "cell_type": "code",
   "execution_count": 139,
   "id": "f4c7668d",
   "metadata": {},
   "outputs": [
    {
     "data": {
      "text/plain": [
       "Number=Sing"
      ]
     },
     "execution_count": 139,
     "metadata": {},
     "output_type": "execute_result"
    }
   ],
   "source": [
    "token_s170.morph"
   ]
  },
  {
   "cell_type": "code",
   "execution_count": 140,
   "id": "f54b4416",
   "metadata": {},
   "outputs": [
    {
     "data": {
      "text/plain": [
       "Aspect=Perf|Tense=Past|VerbForm=Part"
      ]
     },
     "execution_count": 140,
     "metadata": {},
     "output_type": "execute_result"
    }
   ],
   "source": [
    "sentence170[14].morph"
   ]
  },
  {
   "cell_type": "code",
   "execution_count": 141,
   "id": "6c3a5135",
   "metadata": {},
   "outputs": [
    {
     "data": {
      "text/plain": [
       "'VERB'"
      ]
     },
     "execution_count": 141,
     "metadata": {},
     "output_type": "execute_result"
    }
   ],
   "source": [
    "sentence170[14].pos_"
   ]
  },
  {
   "cell_type": "code",
   "execution_count": 143,
   "id": "2f01a381",
   "metadata": {},
   "outputs": [
    {
     "data": {
      "text/plain": [
       "'en'"
      ]
     },
     "execution_count": 143,
     "metadata": {},
     "output_type": "execute_result"
    }
   ],
   "source": [
    "sentence170[14].lang_"
   ]
  },
  {
   "cell_type": "code",
   "execution_count": null,
   "id": "4e27262e",
   "metadata": {},
   "outputs": [],
   "source": []
  }
 ],
 "metadata": {
  "kernelspec": {
   "display_name": "Python 3 (ipykernel)",
   "language": "python",
   "name": "python3"
  },
  "language_info": {
   "codemirror_mode": {
    "name": "ipython",
    "version": 3
   },
   "file_extension": ".py",
   "mimetype": "text/x-python",
   "name": "python",
   "nbconvert_exporter": "python",
   "pygments_lexer": "ipython3",
   "version": "3.10.4"
  }
 },
 "nbformat": 4,
 "nbformat_minor": 5
}
